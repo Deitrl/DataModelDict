{
 "cells": [
  {
   "cell_type": "markdown",
   "metadata": {},
   "source": [
    "#DataModelDict Class Demonstration\n",
    "\n",
    "The DataModelDict class is a utility tool for working with structured data models.  It handles the conversions between equivalent representations of json, XML and Python dictionaries.  It also has a few methods associated with checking the data model type and recursively retrieving elements from the model."
   ]
  },
  {
   "cell_type": "markdown",
   "metadata": {},
   "source": [
    "Library imports"
   ]
  },
  {
   "cell_type": "code",
   "execution_count": 1,
   "metadata": {
    "collapsed": false
   },
   "outputs": [],
   "source": [
    "#imports\n",
    "from DataModelDict import DataModelDict"
   ]
  },
  {
   "cell_type": "markdown",
   "metadata": {},
   "source": [
    "##1. Class Basics \n",
    "\n",
    "The DataModelDict is a child class of OrderedDict.  As such, within Python it behaves identically to an OrderedDict.\n",
    "\n",
    "In addition to initilization consistent with an OrderedDict, the DataModelDict initilization also calls the load() method. This means that a DataModelDict can be initilized directly from json/xml formatted data.  See Section 4 for more information."
   ]
  },
  {
   "cell_type": "code",
   "execution_count": 2,
   "metadata": {
    "collapsed": false
   },
   "outputs": [
    {
     "name": "stdout",
     "output_type": "stream",
     "text": [
      "DataModelDict([('demo', DataModelDict([('cat1', DataModelDict([('value', [100L, 200L, 300L]), ('unit', None)])), ('cat2', [DataModelDict([('value', 1.23), ('unit', 'eV')]), DataModelDict([('value', 1.29), ('unit', 'eV')])])]))])\n"
     ]
    }
   ],
   "source": [
    "#Create an empty DataModel\n",
    "model = DataModelDict()\n",
    "\n",
    "#Create tiered dictionary for demonstration purposes\n",
    "model['demo'] = DataModelDict()\n",
    "\n",
    "model['demo']['cat1'] = DataModelDict()\n",
    "model['demo']['cat1']['value'] = [100L, 200L, 300L]\n",
    "model['demo']['cat1']['unit'] = None\n",
    "\n",
    "model['demo']['cat2'] = []\n",
    "model['demo']['cat2'].append(DataModelDict([ ('value', 1.23), ('unit', 'eV') ]))\n",
    "model['demo']['cat2'].append(DataModelDict([ ('value', 1.29), ('unit', 'eV') ]))\n",
    "\n",
    "print model"
   ]
  },
  {
   "cell_type": "code",
   "execution_count": 3,
   "metadata": {
    "collapsed": false
   },
   "outputs": [
    {
     "name": "stdout",
     "output_type": "stream",
     "text": [
      "demo\n",
      "\n",
      "demo -> DataModelDict([('cat1', DataModelDict([('value', [100L, 200L, 300L]), ('unit', None)])), ('cat2', [DataModelDict([('value', 1.23), ('unit', 'eV')]), DataModelDict([('value', 1.29), ('unit', 'eV')])])])\n",
      "\n",
      "cat1 -> DataModelDict([('value', [100L, 200L, 300L]), ('unit', None)])\n",
      "cat2 -> [DataModelDict([('value', 1.23), ('unit', 'eV')]), DataModelDict([('value', 1.29), ('unit', 'eV')])]\n"
     ]
    }
   ],
   "source": [
    "#test iteration\n",
    "for key in model:\n",
    "    print key    \n",
    "print\n",
    "\n",
    "#test iteritems\n",
    "for key, value in model.iteritems():\n",
    "    print key, '->', value\n",
    "print\n",
    "\n",
    "#test iteritems on subelement\n",
    "for key, value in model['demo'].iteritems():\n",
    "    print key, '->', value "
   ]
  },
  {
   "cell_type": "markdown",
   "metadata": {},
   "source": [
    "##2. Class Methods for General Functionality\n",
    "\n",
    "The methods here add additional functionality to the model that assist with the handling and manipulation of the structured data."
   ]
  },
  {
   "cell_type": "markdown",
   "metadata": {},
   "source": [
    "###append(key, value)\n",
    "If key is not assigned, assigns key. If key is assigned, appends value to the current value (and converts to list if needed)."
   ]
  },
  {
   "cell_type": "code",
   "execution_count": 4,
   "metadata": {
    "collapsed": false
   },
   "outputs": [
    {
     "name": "stdout",
     "output_type": "stream",
     "text": [
      "None\n",
      "first\n",
      "['first', 'second']\n",
      "['first', 'second', 'third']\n"
     ]
    }
   ],
   "source": [
    "print model['demo'].get('cat3', None)\n",
    "\n",
    "model['demo'].append('cat3', 'first')\n",
    "print model['demo'].get('cat3', None)\n",
    "\n",
    "model['demo'].append('cat3', 'second')\n",
    "print model['demo'].get('cat3', None)\n",
    "\n",
    "model['demo'].append('cat3', 'third')\n",
    "print model['demo'].get('cat3', None)"
   ]
  },
  {
   "cell_type": "markdown",
   "metadata": {},
   "source": [
    "###find(key, **kwargs)\n",
    "\n",
    "Return a DataModelDict corresponding to a subelement given by key. Additional keyword arguments can be used to refine the search. Returns None if no matching elements found.  Raises an error if multiple matching elements are found."
   ]
  },
  {
   "cell_type": "code",
   "execution_count": 5,
   "metadata": {
    "collapsed": false
   },
   "outputs": [
    {
     "name": "stdout",
     "output_type": "stream",
     "text": [
      "model.find('cat1') -> DataModelDict([('cat1', DataModelDict([('value', [100L, 200L, 300L]), ('unit', None)]))])\n",
      "\n",
      "model.find('not-there') -> None\n",
      "\n",
      "model.find('cat2') ->     ValueError raised: Multiple matching subelements found for key (and kwargs).\n",
      "\n",
      "model.find('cat2', value=1.23) -> DataModelDict([('cat2', DataModelDict([('value', 1.23), ('unit', 'eV')]))])\n"
     ]
    }
   ],
   "source": [
    "#find with one matching subelement\n",
    "print \"model.find('cat1') ->\", model.find('cat1')\n",
    "print\n",
    "\n",
    "#find with no matching subelement\n",
    "print \"model.find('not-there') ->\", model.find('not-there')\n",
    "print \n",
    "\n",
    "#find with multiple matching subelements\n",
    "print \"model.find('cat2') ->\", \n",
    "try:\n",
    "    print model.find('cat2')\n",
    "except ValueError as detail:\n",
    "     print '    ValueError raised:', detail\n",
    "print \n",
    "\n",
    "#find with additional keyword search refinement\n",
    "print \"model.find('cat2', value=1.23) ->\", \n",
    "try:\n",
    "    print model.find('cat2', value=1.23)\n",
    "except ValueError as detail:\n",
    "     print '    ValueError raised:', detail\n",
    "\n",
    "    "
   ]
  },
  {
   "cell_type": "markdown",
   "metadata": {},
   "source": [
    "###iterlist(key)\n",
    "\n",
    "Return an iterator over an element's value(s).  Useful if the element may or may not be a list of values."
   ]
  },
  {
   "cell_type": "code",
   "execution_count": 30,
   "metadata": {
    "collapsed": false
   },
   "outputs": [
    {
     "name": "stdout",
     "output_type": "stream",
     "text": [
      "model['demo']['cat1']['value'] -> [100, 200, 300]\n",
      "for val in model['demo']['cat1'].iterlist('value'):\n",
      "    val -> 100\n",
      "    val -> 200\n",
      "    val -> 300\n",
      "\n",
      "model['demo']['cat1']['unit'] -> None\n",
      "for val in model['demo']['cat1'].iterlist('unit'):\n",
      "    val -> None\n",
      "\n",
      "for val in model['demo']['cat1'].iterlist('not-there'):\n"
     ]
    }
   ],
   "source": [
    "#test iterlist for a key value that is a list\n",
    "print \"model['demo']['cat1']['value'] ->\", model['demo']['cat1']['value']\n",
    "print \"for val in model['demo']['cat1'].iterlist('value'):\"\n",
    "for val in model['demo']['cat1'].iterlist('value'):\n",
    "    print \"    val ->\", val\n",
    "print     \n",
    "\n",
    "#test iterlist for a key value that is not a list\n",
    "print \"model['demo']['cat1']['unit'] ->\", model['demo']['cat1']['unit']\n",
    "print \"for val in model['demo']['cat1'].iterlist('unit'):\"\n",
    "for val in model['demo']['cat1'].iterlist('unit'):\n",
    "    print \"    val ->\", val\n",
    "print\n",
    "\n",
    "#test iterlist for a key that doesn't exist\n",
    "print \"for val in model['demo']['cat1'].iterlist('not-there'):\"\n",
    "for val in model['demo']['cat1'].iterlist('not-there'):\n",
    "    print \"    val ->\", val    "
   ]
  },
  {
   "cell_type": "markdown",
   "metadata": {},
   "source": [
    "###iterlistall(key)\n",
    "\n",
    "Return an iterator over all subelements at any level with the given key name."
   ]
  },
  {
   "cell_type": "code",
   "execution_count": 7,
   "metadata": {
    "collapsed": false
   },
   "outputs": [
    {
     "name": "stdout",
     "output_type": "stream",
     "text": [
      "for val in model.iterlistall('value'):\n",
      "    val -> 100\n",
      "    val -> 200\n",
      "    val -> 300\n",
      "    val -> 1.23\n",
      "    val -> 1.29\n"
     ]
    }
   ],
   "source": [
    "print \"for val in model.iterlistall('value'):\"\n",
    "for val in model.iterlistall('value'):\n",
    "    print \"    val ->\", val"
   ]
  },
  {
   "cell_type": "markdown",
   "metadata": {},
   "source": [
    "###list(key)\n",
    "\n",
    "Return an element's value(s) as a list.  Useful if the element may or may not be a list of values."
   ]
  },
  {
   "cell_type": "code",
   "execution_count": 9,
   "metadata": {
    "collapsed": false
   },
   "outputs": [
    {
     "name": "stdout",
     "output_type": "stream",
     "text": [
      "model['demo']['cat1'].list('value') -> [100L, 200L, 300L]\n",
      "model['demo']['cat1'].list('unit') -> [None]\n",
      "model['demo']['cat1'].list('not-there') -> []\n"
     ]
    }
   ],
   "source": [
    "#test list for a key value that is a list\n",
    "print \"model['demo']['cat1'].list('value') ->\", model['demo']['cat1'].list('value')   \n",
    "\n",
    "#test list for a key value that is not a list\n",
    "print \"model['demo']['cat1'].list('unit') ->\", model['demo']['cat1'].list('unit')   \n",
    "\n",
    "#test list for a key that doesn't exist\n",
    "print \"model['demo']['cat1'].list('not-there') ->\", model['demo']['cat1'].list('not-there')   "
   ]
  },
  {
   "cell_type": "markdown",
   "metadata": {},
   "source": [
    "###listall(key)\n",
    "\n",
    "Return a list of all subelements at any level with the given key name."
   ]
  },
  {
   "cell_type": "code",
   "execution_count": 6,
   "metadata": {
    "collapsed": false
   },
   "outputs": [
    {
     "name": "stdout",
     "output_type": "stream",
     "text": [
      "model.listall('not-there') -> []\n",
      "\n",
      "model.lsitall('value') -> [100L, 200L, 300L, 1.23, 1.29]\n"
     ]
    }
   ],
   "source": [
    "#findall with no occurence\n",
    "print \"model.listall('not-there') ->\", model.listall('not-there')\n",
    "print \n",
    "\n",
    "#findall with multiple occurences\n",
    "print \"model.lsitall('value') ->\", model.listall('value')"
   ]
  },
  {
   "cell_type": "markdown",
   "metadata": {},
   "source": [
    "##3. Class Methods for Format Conversion\n",
    "\n",
    "These methods allow for conversions of the data model to and from the different representations"
   ]
  },
  {
   "cell_type": "markdown",
   "metadata": {},
   "source": [
    "###json(fp=None, indent=None, separators=(', ', ': '))\n",
    "\n",
    "Return the DataModelDict in json format. The keyword arguments are:\n",
    "\n",
    "- __fp__ = file-like object.  If given, then the json will be written to fp instead of returned.\n",
    "\n",
    "- __indent__ = integer indentation spacing.  Default is None, which will print inline.\n",
    "\n",
    "- __separators__ = tuple of (item, dictionary) separators. Default is (', ', ': ')"
   ]
  },
  {
   "cell_type": "code",
   "execution_count": 10,
   "metadata": {
    "collapsed": false
   },
   "outputs": [
    {
     "name": "stdout",
     "output_type": "stream",
     "text": [
      "{\"demo\": {\"cat1\": {\"value\": [100, 200, 300], \"unit\": null}, \"cat2\": [{\"value\": 1.23, \"unit\": \"eV\"}, {\"value\": 1.29, \"unit\": \"eV\"}], \"cat3\": [\"first\", \"second\", \"third\"]}}\n"
     ]
    }
   ],
   "source": [
    "#Default json\n",
    "print model.json()"
   ]
  },
  {
   "cell_type": "code",
   "execution_count": 11,
   "metadata": {
    "collapsed": false
   },
   "outputs": [
    {
     "name": "stdout",
     "output_type": "stream",
     "text": [
      "{\n",
      "    \"demo\": {\n",
      "        \"cat1\": {\n",
      "            \"value\": [\n",
      "                100, \n",
      "                200, \n",
      "                300\n",
      "            ], \n",
      "            \"unit\": null\n",
      "        }, \n",
      "        \"cat2\": [\n",
      "            {\n",
      "                \"value\": 1.23, \n",
      "                \"unit\": \"eV\"\n",
      "            }, \n",
      "            {\n",
      "                \"value\": 1.29, \n",
      "                \"unit\": \"eV\"\n",
      "            }\n",
      "        ], \n",
      "        \"cat3\": [\n",
      "            \"first\", \n",
      "            \"second\", \n",
      "            \"third\"\n",
      "        ]\n",
      "    }\n",
      "}\n"
     ]
    }
   ],
   "source": [
    "#json with indent\n",
    "print model.json(indent=4)"
   ]
  },
  {
   "cell_type": "code",
   "execution_count": 12,
   "metadata": {
    "collapsed": false
   },
   "outputs": [
    {
     "name": "stdout",
     "output_type": "stream",
     "text": [
      "{\n",
      "  \"demo\":{\n",
      "    \"cat1\":{\n",
      "      \"value\":[\n",
      "        100,\n",
      "        200,\n",
      "        300\n",
      "      ],\n",
      "      \"unit\":null\n",
      "    },\n",
      "    \"cat2\":[\n",
      "      {\n",
      "        \"value\":1.23,\n",
      "        \"unit\":\"eV\"\n",
      "      },\n",
      "      {\n",
      "        \"value\":1.29,\n",
      "        \"unit\":\"eV\"\n",
      "      }\n",
      "    ],\n",
      "    \"cat3\":[\n",
      "      \"first\",\n",
      "      \"second\",\n",
      "      \"third\"\n",
      "    ]\n",
      "  }\n",
      "}\n"
     ]
    }
   ],
   "source": [
    "#json with different separators\n",
    "print model.json(indent=2, separators= (',', ':'))"
   ]
  },
  {
   "cell_type": "code",
   "execution_count": 13,
   "metadata": {
    "collapsed": false
   },
   "outputs": [
    {
     "name": "stdout",
     "output_type": "stream",
     "text": [
      "{\n",
      " \"value\": [\n",
      "  100, \n",
      "  200, \n",
      "  300\n",
      " ], \n",
      " \"unit\": null\n",
      "}\n"
     ]
    }
   ],
   "source": [
    "#json on a subelement DataModelDict\n",
    "print model['demo']['cat1'].json(indent=1)"
   ]
  },
  {
   "cell_type": "code",
   "execution_count": 14,
   "metadata": {
    "collapsed": false
   },
   "outputs": [
    {
     "name": "stdout",
     "output_type": "stream",
     "text": [
      "{\n",
      "  \"demo\": {\n",
      "    \"cat1\": {\n",
      "      \"value\": [\n",
      "        100, \n",
      "        200, \n",
      "        300\n",
      "      ], \n",
      "      \"unit\": null\n",
      "    }, \n",
      "    \"cat2\": [\n",
      "      {\n",
      "        \"value\": 1.23, \n",
      "        \"unit\": \"eV\"\n",
      "      }, \n",
      "      {\n",
      "        \"value\": 1.29, \n",
      "        \"unit\": \"eV\"\n",
      "      }\n",
      "    ], \n",
      "    \"cat3\": [\n",
      "      \"first\", \n",
      "      \"second\", \n",
      "      \"third\"\n",
      "    ]\n",
      "  }\n",
      "}\n"
     ]
    }
   ],
   "source": [
    "#json to file\n",
    "with open('test.json', 'w') as f:\n",
    "    model.json(fp=f, indent=2)\n",
    "    \n",
    "with open('test.json') as f:\n",
    "    print f.read()"
   ]
  },
  {
   "cell_type": "markdown",
   "metadata": {},
   "source": [
    "###xml(fp=None, indent=None, full_document=True)\n",
    "\n",
    "Return the DataModelDict in xml format.  The keyword arguments are:\n",
    "\n",
    "- __fp__ = file-like object.  If given, then the json will be written to fp instead of returned.\n",
    "\n",
    "- __indent__ = integer indentation spacing.  Default is None, which will print inline.\n",
    "\n",
    "- __full_document__ = boolean indicating whether the xml string is for the full document (including header) or a subelement.  Default is True."
   ]
  },
  {
   "cell_type": "code",
   "execution_count": 15,
   "metadata": {
    "collapsed": false
   },
   "outputs": [
    {
     "name": "stdout",
     "output_type": "stream",
     "text": [
      "<?xml version=\"1.0\" encoding=\"utf-8\"?>\n",
      "<demo><cat1><value>100</value><value>200</value><value>300</value><unit></unit></cat1><cat2><value>1.23</value><unit>eV</unit></cat2><cat2><value>1.29</value><unit>eV</unit></cat2><cat3>first</cat3><cat3>second</cat3><cat3>third</cat3></demo>\n"
     ]
    }
   ],
   "source": [
    "#default xml\n",
    "print model.xml()"
   ]
  },
  {
   "cell_type": "code",
   "execution_count": 16,
   "metadata": {
    "collapsed": false
   },
   "outputs": [
    {
     "name": "stdout",
     "output_type": "stream",
     "text": [
      "<?xml version=\"1.0\" encoding=\"utf-8\"?>\n",
      "<demo>\n",
      "<cat1>\n",
      "<value>100</value>\n",
      "<value>200</value>\n",
      "<value>300</value>\n",
      "<unit></unit>\n",
      "</cat1>\n",
      "<cat2>\n",
      "<value>1.23</value>\n",
      "<unit>eV</unit>\n",
      "</cat2>\n",
      "<cat2>\n",
      "<value>1.29</value>\n",
      "<unit>eV</unit>\n",
      "</cat2>\n",
      "<cat3>first</cat3>\n",
      "<cat3>second</cat3>\n",
      "<cat3>third</cat3>\n",
      "</demo>\n"
     ]
    }
   ],
   "source": [
    "#xml with indent\n",
    "print model.xml(indent=0)\n",
    "xml_string = model.xml(indent=0)"
   ]
  },
  {
   "cell_type": "code",
   "execution_count": 17,
   "metadata": {
    "collapsed": false
   },
   "outputs": [
    {
     "name": "stdout",
     "output_type": "stream",
     "text": [
      "<?xml version=\"1.0\" encoding=\"utf-8\"?>\n",
      "<demo>\n",
      "    <cat1>\n",
      "        <value>100</value>\n",
      "        <value>200</value>\n",
      "        <value>300</value>\n",
      "        <unit></unit>\n",
      "    </cat1>\n",
      "    <cat2>\n",
      "        <value>1.23</value>\n",
      "        <unit>eV</unit>\n",
      "    </cat2>\n",
      "    <cat2>\n",
      "        <value>1.29</value>\n",
      "        <unit>eV</unit>\n",
      "    </cat2>\n",
      "    <cat3>first</cat3>\n",
      "    <cat3>second</cat3>\n",
      "    <cat3>third</cat3>\n",
      "</demo>\n"
     ]
    }
   ],
   "source": [
    "#xml with different indent\n",
    "print model.xml(indent=4)"
   ]
  },
  {
   "cell_type": "code",
   "execution_count": 18,
   "metadata": {
    "collapsed": false
   },
   "outputs": [
    {
     "name": "stdout",
     "output_type": "stream",
     "text": [
      "<value>100</value><value>200</value><value>300</value><unit></unit>\n"
     ]
    }
   ],
   "source": [
    "#xml of subelement\n",
    "print model['demo']['cat1'].xml(full_document=False)"
   ]
  },
  {
   "cell_type": "code",
   "execution_count": 19,
   "metadata": {
    "collapsed": false
   },
   "outputs": [
    {
     "name": "stdout",
     "output_type": "stream",
     "text": [
      "<?xml version=\"1.0\" encoding=\"utf-8\"?>\n",
      "<demo>\n",
      "  <cat1>\n",
      "    <value>100</value>\n",
      "    <value>200</value>\n",
      "    <value>300</value>\n",
      "    <unit></unit>\n",
      "  </cat1>\n",
      "  <cat2>\n",
      "    <value>1.23</value>\n",
      "    <unit>eV</unit>\n",
      "  </cat2>\n",
      "  <cat2>\n",
      "    <value>1.29</value>\n",
      "    <unit>eV</unit>\n",
      "  </cat2>\n",
      "  <cat3>first</cat3>\n",
      "  <cat3>second</cat3>\n",
      "  <cat3>third</cat3>\n",
      "</demo>\n"
     ]
    }
   ],
   "source": [
    "#xml to file\n",
    "with open('test.xml', 'w') as f:\n",
    "    model.xml(f, indent=2)\n",
    "    \n",
    "with open('test.xml') as f:\n",
    "    print f.read()"
   ]
  },
  {
   "cell_type": "markdown",
   "metadata": {},
   "source": [
    "###load(model, parse_float=None, parse_int=None)\n",
    "\n",
    "The load() method reads in a string or file-like object in json or xml format.  All dictionary levels are made DataModelDict objects.  Keyword values (True, False, None, nan, inf, -inf, and json equivalents) are also interpreted. Keyword Arguments are:\n",
    "\n",
    "- __model__ = string, unicode or file-like object containing the json/xml formatted data. Required.\n",
    "\n",
    "- __parse_float__ = numeric data type to convert floating point numbers to. Default is float.\n",
    "\n",
    "- __parse_int__ = numeric data type to convert integer numbers to.  Note that parse_int conversion is attempted before parse_float, so if the parse_int type can interpret floats then all values will be of parse_int. Default is int.\n",
    "\n"
   ]
  },
  {
   "cell_type": "code",
   "execution_count": 20,
   "metadata": {
    "collapsed": false
   },
   "outputs": [
    {
     "name": "stdout",
     "output_type": "stream",
     "text": [
      "DataModelDict([('demo', DataModelDict([('cat1', DataModelDict([('value', [100L, 200L, 300L]), ('unit', None)])), ('cat2', [DataModelDict([('value', 1.23), ('unit', 'eV')]), DataModelDict([('value', 1.29), ('unit', 'eV')])]), ('cat3', ['first', 'second', 'third'])]))])\n"
     ]
    }
   ],
   "source": [
    "#print original dictionary\n",
    "print model"
   ]
  },
  {
   "cell_type": "code",
   "execution_count": 21,
   "metadata": {
    "collapsed": false
   },
   "outputs": [
    {
     "name": "stdout",
     "output_type": "stream",
     "text": [
      "{\"demo\": {\"cat1\": {\"value\": [100, 200, 300], \"unit\": null}, \"cat2\": [{\"value\": 1.23, \"unit\": \"eV\"}, {\"value\": 1.29, \"unit\": \"eV\"}], \"cat3\": [\"first\", \"second\", \"third\"]}}\n",
      "\n",
      "<?xml version=\"1.0\" encoding=\"utf-8\"?>\n",
      "<demo><cat1><value>100</value><value>200</value><value>300</value><unit></unit></cat1><cat2><value>1.23</value><unit>eV</unit></cat2><cat2><value>1.29</value><unit>eV</unit></cat2><cat3>first</cat3><cat3>second</cat3><cat3>third</cat3></demo>\n"
     ]
    }
   ],
   "source": [
    "#save as json and xml strings\n",
    "json_string = model.json()\n",
    "xml_string = model.xml()\n",
    "print json_string\n",
    "print \n",
    "print xml_string"
   ]
  },
  {
   "cell_type": "code",
   "execution_count": 22,
   "metadata": {
    "collapsed": false
   },
   "outputs": [
    {
     "name": "stdout",
     "output_type": "stream",
     "text": [
      "DataModelDict()\n",
      "\n",
      "DataModelDict([(u'demo', DataModelDict([(u'cat1', DataModelDict([(u'value', [100, 200, 300]), (u'unit', None)])), (u'cat2', [DataModelDict([(u'value', 1.23), (u'unit', u'eV')]), DataModelDict([(u'value', 1.29), (u'unit', u'eV')])]), (u'cat3', [u'first', u'second', u'third'])]))])\n",
      "\n",
      "DataModelDict()\n",
      "\n",
      "DataModelDict([(u'demo', DataModelDict([(u'cat1', DataModelDict([(u'value', [100, 200, 300]), (u'unit', None)])), (u'cat2', [DataModelDict([(u'value', 1.23), (u'unit', u'eV')]), DataModelDict([(u'value', 1.29), (u'unit', u'eV')])]), (u'cat3', [u'first', u'second', u'third'])]))])\n"
     ]
    }
   ],
   "source": [
    "#clear model (not necessary. just to show that values are gone)\n",
    "model = DataModelDict()\n",
    "print model\n",
    "print \n",
    "\n",
    "#load json string\n",
    "model.load(json_string)\n",
    "print model\n",
    "print \n",
    "\n",
    "#clear model (not necessary. just to show that values are gone)\n",
    "model = DataModelDict()\n",
    "print model\n",
    "print\n",
    "\n",
    "#load xml string\n",
    "model.load(xml_string)\n",
    "print model"
   ]
  },
  {
   "cell_type": "code",
   "execution_count": 23,
   "metadata": {
    "collapsed": false
   },
   "outputs": [
    {
     "name": "stdout",
     "output_type": "stream",
     "text": [
      "DataModelDict([(u'demo', DataModelDict([(u'cat1', DataModelDict([(u'value', [100L, 200L, 300L]), (u'unit', None)])), (u'cat2', [DataModelDict([(u'value', (1.23+0j)), (u'unit', u'eV')]), DataModelDict([(u'value', (1.29+0j)), (u'unit', u'eV')])]), (u'cat3', [u'first', u'second', u'third'])]))])\n",
      "\n",
      "DataModelDict([(u'demo', DataModelDict([(u'cat1', DataModelDict([(u'value', [100L, 200L, 300L]), (u'unit', None)])), (u'cat2', [DataModelDict([(u'value', (1.23+0j)), (u'unit', u'eV')]), DataModelDict([(u'value', (1.29+0j)), (u'unit', u'eV')])]), (u'cat3', [u'first', u'second', u'third'])]))])\n"
     ]
    }
   ],
   "source": [
    "#import json string values with long integers and complex floats\n",
    "model.load(json_string, parse_int=long, parse_float=complex)\n",
    "print model\n",
    "print\n",
    "\n",
    "#import xml string values with long integers and complex floats\n",
    "model.load(xml_string, parse_int=long, parse_float=complex)\n",
    "print model"
   ]
  },
  {
   "cell_type": "code",
   "execution_count": 24,
   "metadata": {
    "collapsed": false
   },
   "outputs": [
    {
     "name": "stdout",
     "output_type": "stream",
     "text": [
      "DataModelDict()\n",
      "\n",
      "DataModelDict([(u'demo', DataModelDict([(u'cat1', DataModelDict([(u'value', [100, 200, 300]), (u'unit', None)])), (u'cat2', [DataModelDict([(u'value', 1.23), (u'unit', u'eV')]), DataModelDict([(u'value', 1.29), (u'unit', u'eV')])]), (u'cat3', [u'first', u'second', u'third'])]))])\n",
      "\n",
      "DataModelDict()\n",
      "\n",
      "DataModelDict([(u'demo', DataModelDict([(u'cat1', DataModelDict([(u'value', [100, 200, 300]), (u'unit', None)])), (u'cat2', [DataModelDict([(u'value', 1.23), (u'unit', u'eV')]), DataModelDict([(u'value', 1.29), (u'unit', u'eV')])]), (u'cat3', [u'first', u'second', u'third'])]))])\n"
     ]
    }
   ],
   "source": [
    "#clear model (not necessary. just to show that values are gone)\n",
    "model = DataModelDict()\n",
    "print model\n",
    "print \n",
    "\n",
    "#load json file\n",
    "with open('test.json') as f:\n",
    "    model.load(f)\n",
    "print model\n",
    "print \n",
    "\n",
    "#clear model (not necessary. just to show that values are gone)\n",
    "model = DataModelDict()\n",
    "print model\n",
    "print\n",
    "\n",
    "#load xml file\n",
    "with open('test.xml') as f:\n",
    "    model.load(f)\n",
    "print model"
   ]
  },
  {
   "cell_type": "markdown",
   "metadata": {},
   "source": [
    "###key_to_html(key)\n",
    "\n",
    "Return a new DataModelDict where all recursive elements with a given key are converted to strings (useful when html included in xml)."
   ]
  },
  {
   "cell_type": "code",
   "execution_count": 25,
   "metadata": {
    "collapsed": false
   },
   "outputs": [
    {
     "name": "stdout",
     "output_type": "stream",
     "text": [
      "{\n",
      "  \"demo\": {\n",
      "    \"cat1\": \"<value>100</value><value>200</value><value>300</value><unit></unit>\", \n",
      "    \"cat2\": [\n",
      "      {\n",
      "        \"value\": 1.23, \n",
      "        \"unit\": \"eV\"\n",
      "      }, \n",
      "      {\n",
      "        \"value\": 1.29, \n",
      "        \"unit\": \"eV\"\n",
      "      }\n",
      "    ], \n",
      "    \"cat3\": [\n",
      "      \"first\", \n",
      "      \"second\", \n",
      "      \"third\"\n",
      "    ]\n",
      "  }\n",
      "}\n",
      "\n"
     ]
    }
   ],
   "source": [
    "model2 = model.key_to_html('cat1')\n",
    "print model2.json(indent=2)\n",
    "print   "
   ]
  },
  {
   "cell_type": "code",
   "execution_count": 26,
   "metadata": {
    "collapsed": false
   },
   "outputs": [
    {
     "name": "stdout",
     "output_type": "stream",
     "text": [
      "{\n",
      "  \"demo\": {\n",
      "    \"cat1\": {\n",
      "      \"value\": [\n",
      "        100, \n",
      "        200, \n",
      "        300\n",
      "      ], \n",
      "      \"unit\": null\n",
      "    }, \n",
      "    \"cat2\": \"<value>1.23</value><unit>eV</unit><value>1.29</value><unit>eV</unit>\", \n",
      "    \"cat3\": [\n",
      "      \"first\", \n",
      "      \"second\", \n",
      "      \"third\"\n",
      "    ]\n",
      "  }\n",
      "}\n",
      "\n"
     ]
    }
   ],
   "source": [
    "model2 = model.key_to_html('cat2')\n",
    "print model2.json(indent=2)\n",
    "print"
   ]
  },
  {
   "cell_type": "markdown",
   "metadata": {},
   "source": [
    "__Note:__ Conversion of html string to xml gets encoded."
   ]
  },
  {
   "cell_type": "code",
   "execution_count": 27,
   "metadata": {
    "collapsed": false
   },
   "outputs": [
    {
     "name": "stdout",
     "output_type": "stream",
     "text": [
      "<?xml version=\"1.0\" encoding=\"utf-8\"?>\n",
      "<demo>\n",
      "  <cat1>\n",
      "    <value>100</value>\n",
      "    <value>200</value>\n",
      "    <value>300</value>\n",
      "    <unit></unit>\n",
      "  </cat1>\n",
      "  <cat2>&lt;value&gt;1.23&lt;/value&gt;&lt;unit&gt;eV&lt;/unit&gt;&lt;value&gt;1.29&lt;/value&gt;&lt;unit&gt;eV&lt;/unit&gt;</cat2>\n",
      "  <cat3>first</cat3>\n",
      "  <cat3>second</cat3>\n",
      "  <cat3>third</cat3>\n",
      "</demo>\n"
     ]
    }
   ],
   "source": [
    "print model2.xml(indent=2)"
   ]
  },
  {
   "cell_type": "markdown",
   "metadata": {},
   "source": [
    "File removal to keep Notebook directory clean."
   ]
  },
  {
   "cell_type": "code",
   "execution_count": 28,
   "metadata": {
    "collapsed": true
   },
   "outputs": [],
   "source": [
    "import os\n",
    "os.remove('test.json')\n",
    "os.remove('test.xml')"
   ]
  }
 ],
 "metadata": {
  "kernelspec": {
   "display_name": "Python 2",
   "language": "python",
   "name": "python2"
  },
  "language_info": {
   "codemirror_mode": {
    "name": "ipython",
    "version": 2
   },
   "file_extension": ".py",
   "mimetype": "text/x-python",
   "name": "python",
   "nbconvert_exporter": "python",
   "pygments_lexer": "ipython2",
   "version": "2.7.10"
  }
 },
 "nbformat": 4,
 "nbformat_minor": 0
}
