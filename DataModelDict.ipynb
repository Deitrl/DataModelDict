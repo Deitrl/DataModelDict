{
 "cells": [
  {
   "cell_type": "markdown",
   "metadata": {},
   "source": [
    "#DataModelDict Class Demonstration\n",
    "\n",
    "The DataModelDict class is a utility tool for working with structured data models.  It handles the conversions between equivalent representations of json, XML and Python dictionaries.  It also has a few methods associated with checking the data model type and recursively retrieving elements from the model."
   ]
  },
  {
   "cell_type": "markdown",
   "metadata": {},
   "source": [
    "__Library imports__"
   ]
  },
  {
   "cell_type": "code",
   "execution_count": 1,
   "metadata": {
    "collapsed": false
   },
   "outputs": [],
   "source": [
    "#imports\n",
    "from DataModelDict import DataModelDict"
   ]
  },
  {
   "cell_type": "markdown",
   "metadata": {},
   "source": [
    "##1. Class Basics \n",
    "\n",
    "The DataModelDict is a child class of OrderedDict.  As such, within Python it behaves identically to an OrderedDict.\n",
    "\n",
    "In addition to initilization consistent with an OrderedDict, the DataModelDict initilization also calls the load() method. This means that a DataModelDict can be initilized directly from json/xml formatted data.  See Section 4 for more information."
   ]
  },
  {
   "cell_type": "code",
   "execution_count": 2,
   "metadata": {
    "collapsed": false
   },
   "outputs": [
    {
     "name": "stdout",
     "output_type": "stream",
     "text": [
      "DataModelDict([('demo', DataModelDict([('cat1', DataModelDict([('value', [100L, 200L, 300L]), ('unit', None)])), ('cat2', [DataModelDict([('value', 1.23), ('unit', 'eV')]), DataModelDict([('value', 1.29), ('unit', 'eV')])])]))])\n"
     ]
    }
   ],
   "source": [
    "#Create an empty DataModel\n",
    "model = DataModelDict()\n",
    "\n",
    "#Create tiered dictionary for demonstration purposes\n",
    "model['demo'] = DataModelDict()\n",
    "\n",
    "model['demo']['cat1'] = DataModelDict()\n",
    "model['demo']['cat1']['value'] = [100L, 200L, 300L]\n",
    "model['demo']['cat1']['unit'] = None\n",
    "\n",
    "model['demo']['cat2'] = []\n",
    "model['demo']['cat2'].append(DataModelDict([ ('value', 1.23), ('unit', 'eV') ]))\n",
    "model['demo']['cat2'].append(DataModelDict([ ('value', 1.29), ('unit', 'eV') ]))\n",
    "\n",
    "print model"
   ]
  },
  {
   "cell_type": "code",
   "execution_count": 3,
   "metadata": {
    "collapsed": false
   },
   "outputs": [
    {
     "name": "stdout",
     "output_type": "stream",
     "text": [
      "demo\n",
      "\n",
      "demo -> DataModelDict([('cat1', DataModelDict([('value', [100L, 200L, 300L]), ('unit', None)])), ('cat2', [DataModelDict([('value', 1.23), ('unit', 'eV')]), DataModelDict([('value', 1.29), ('unit', 'eV')])])])\n",
      "\n",
      "cat1 -> DataModelDict([('value', [100L, 200L, 300L]), ('unit', None)])\n",
      "cat2 -> [DataModelDict([('value', 1.23), ('unit', 'eV')]), DataModelDict([('value', 1.29), ('unit', 'eV')])]\n"
     ]
    }
   ],
   "source": [
    "#test iteration\n",
    "for key in model:\n",
    "    print key    \n",
    "print\n",
    "\n",
    "#test iteritems\n",
    "for key, value in model.iteritems():\n",
    "    print key, '->', value\n",
    "print\n",
    "\n",
    "#test iteritems on subelement\n",
    "for key, value in model['demo'].iteritems():\n",
    "    print key, '->', value "
   ]
  },
  {
   "cell_type": "markdown",
   "metadata": {},
   "source": [
    "##2.  DataModelDict.json()\n",
    "\n",
    "The json() method returns the DataModelDict as a json string.  The optional arguments are:\n",
    "\n",
    "- __fp__ = file-like object.  If given, then the json will be written to fp instead of returned.\n",
    "\n",
    "- __indent__ = integer indentation spacing.  Default is None, which will print inline.\n",
    "\n",
    "- __separators__ = tuple of (item, dictionary) separators. Default is (', ', ': ')"
   ]
  },
  {
   "cell_type": "code",
   "execution_count": 4,
   "metadata": {
    "collapsed": false
   },
   "outputs": [
    {
     "name": "stdout",
     "output_type": "stream",
     "text": [
      "{\"demo\": {\"cat1\": {\"value\": [100, 200, 300], \"unit\": null}, \"cat2\": [{\"value\": 1.23, \"unit\": \"eV\"}, {\"value\": 1.29, \"unit\": \"eV\"}]}}\n"
     ]
    }
   ],
   "source": [
    "#Default json\n",
    "print model.json()"
   ]
  },
  {
   "cell_type": "code",
   "execution_count": 5,
   "metadata": {
    "collapsed": false
   },
   "outputs": [
    {
     "name": "stdout",
     "output_type": "stream",
     "text": [
      "{\n",
      "    \"demo\": {\n",
      "        \"cat1\": {\n",
      "            \"value\": [\n",
      "                100, \n",
      "                200, \n",
      "                300\n",
      "            ], \n",
      "            \"unit\": null\n",
      "        }, \n",
      "        \"cat2\": [\n",
      "            {\n",
      "                \"value\": 1.23, \n",
      "                \"unit\": \"eV\"\n",
      "            }, \n",
      "            {\n",
      "                \"value\": 1.29, \n",
      "                \"unit\": \"eV\"\n",
      "            }\n",
      "        ]\n",
      "    }\n",
      "}\n"
     ]
    }
   ],
   "source": [
    "#json with indent\n",
    "print model.json(indent=4)"
   ]
  },
  {
   "cell_type": "code",
   "execution_count": 6,
   "metadata": {
    "collapsed": false
   },
   "outputs": [
    {
     "name": "stdout",
     "output_type": "stream",
     "text": [
      "{\n",
      "  \"demo\":{\n",
      "    \"cat1\":{\n",
      "      \"value\":[\n",
      "        100,\n",
      "        200,\n",
      "        300\n",
      "      ],\n",
      "      \"unit\":null\n",
      "    },\n",
      "    \"cat2\":[\n",
      "      {\n",
      "        \"value\":1.23,\n",
      "        \"unit\":\"eV\"\n",
      "      },\n",
      "      {\n",
      "        \"value\":1.29,\n",
      "        \"unit\":\"eV\"\n",
      "      }\n",
      "    ]\n",
      "  }\n",
      "}\n"
     ]
    }
   ],
   "source": [
    "#json with different separators\n",
    "print model.json(indent=2, separators= (',', ':'))"
   ]
  },
  {
   "cell_type": "code",
   "execution_count": 7,
   "metadata": {
    "collapsed": false
   },
   "outputs": [
    {
     "name": "stdout",
     "output_type": "stream",
     "text": [
      "{\n",
      " \"value\": [\n",
      "  100, \n",
      "  200, \n",
      "  300\n",
      " ], \n",
      " \"unit\": null\n",
      "}\n"
     ]
    }
   ],
   "source": [
    "#json on a subelement DataModelDict\n",
    "print model['demo']['cat1'].json(indent=1)"
   ]
  },
  {
   "cell_type": "code",
   "execution_count": 8,
   "metadata": {
    "collapsed": false
   },
   "outputs": [
    {
     "name": "stdout",
     "output_type": "stream",
     "text": [
      "{\n",
      "  \"demo\": {\n",
      "    \"cat1\": {\n",
      "      \"value\": [\n",
      "        100, \n",
      "        200, \n",
      "        300\n",
      "      ], \n",
      "      \"unit\": null\n",
      "    }, \n",
      "    \"cat2\": [\n",
      "      {\n",
      "        \"value\": 1.23, \n",
      "        \"unit\": \"eV\"\n",
      "      }, \n",
      "      {\n",
      "        \"value\": 1.29, \n",
      "        \"unit\": \"eV\"\n",
      "      }\n",
      "    ]\n",
      "  }\n",
      "}\n"
     ]
    }
   ],
   "source": [
    "#json to file\n",
    "with open('test.json', 'w') as f:\n",
    "    model.json(fp=f, indent=2)\n",
    "    \n",
    "with open('test.json') as f:\n",
    "    print f.read()"
   ]
  },
  {
   "cell_type": "markdown",
   "metadata": {},
   "source": [
    "##3.  DataModelDict.xml()\n",
    "\n",
    "The xml() method returns the DataModelDict as an xml string.  The optional arguments are:\n",
    "\n",
    "- __fp__ = file-like object.  If given, then the json will be written to fp instead of returned.\n",
    "\n",
    "- __indent__ = integer indentation spacing.  Default is None, which will print inline.\n",
    "\n",
    "- __full_document__ = boolean indicating whether the xml string is for the full document (including header) or a subelement.  Default is True."
   ]
  },
  {
   "cell_type": "code",
   "execution_count": 9,
   "metadata": {
    "collapsed": false
   },
   "outputs": [
    {
     "name": "stdout",
     "output_type": "stream",
     "text": [
      "<?xml version=\"1.0\" encoding=\"utf-8\"?>\n",
      "<demo><cat1><value>100</value><value>200</value><value>300</value><unit></unit></cat1><cat2><value>1.23</value><unit>eV</unit></cat2><cat2><value>1.29</value><unit>eV</unit></cat2></demo>\n"
     ]
    }
   ],
   "source": [
    "#default xml\n",
    "print model.xml()"
   ]
  },
  {
   "cell_type": "code",
   "execution_count": 10,
   "metadata": {
    "collapsed": false
   },
   "outputs": [
    {
     "name": "stdout",
     "output_type": "stream",
     "text": [
      "<?xml version=\"1.0\" encoding=\"utf-8\"?>\n",
      "<demo>\n",
      "<cat1>\n",
      "<value>100</value>\n",
      "<value>200</value>\n",
      "<value>300</value>\n",
      "<unit></unit>\n",
      "</cat1>\n",
      "<cat2>\n",
      "<value>1.23</value>\n",
      "<unit>eV</unit>\n",
      "</cat2>\n",
      "<cat2>\n",
      "<value>1.29</value>\n",
      "<unit>eV</unit>\n",
      "</cat2>\n",
      "</demo>\n"
     ]
    }
   ],
   "source": [
    "#xml with indent\n",
    "print model.xml(indent=0)\n",
    "xml_string = model.xml(indent=0)"
   ]
  },
  {
   "cell_type": "code",
   "execution_count": 11,
   "metadata": {
    "collapsed": false
   },
   "outputs": [
    {
     "name": "stdout",
     "output_type": "stream",
     "text": [
      "<?xml version=\"1.0\" encoding=\"utf-8\"?>\n",
      "<demo>\n",
      "    <cat1>\n",
      "        <value>100</value>\n",
      "        <value>200</value>\n",
      "        <value>300</value>\n",
      "        <unit></unit>\n",
      "    </cat1>\n",
      "    <cat2>\n",
      "        <value>1.23</value>\n",
      "        <unit>eV</unit>\n",
      "    </cat2>\n",
      "    <cat2>\n",
      "        <value>1.29</value>\n",
      "        <unit>eV</unit>\n",
      "    </cat2>\n",
      "</demo>\n"
     ]
    }
   ],
   "source": [
    "#xml with different indent\n",
    "print model.xml(indent=4)"
   ]
  },
  {
   "cell_type": "code",
   "execution_count": 12,
   "metadata": {
    "collapsed": false
   },
   "outputs": [
    {
     "name": "stdout",
     "output_type": "stream",
     "text": [
      "<value>100</value><value>200</value><value>300</value><unit></unit>\n"
     ]
    }
   ],
   "source": [
    "#xml of subelement\n",
    "print model['demo']['cat1'].xml(full_document=False)"
   ]
  },
  {
   "cell_type": "code",
   "execution_count": 13,
   "metadata": {
    "collapsed": false
   },
   "outputs": [
    {
     "name": "stdout",
     "output_type": "stream",
     "text": [
      "<?xml version=\"1.0\" encoding=\"utf-8\"?>\n",
      "<demo>\n",
      "  <cat1>\n",
      "    <value>100</value>\n",
      "    <value>200</value>\n",
      "    <value>300</value>\n",
      "    <unit></unit>\n",
      "  </cat1>\n",
      "  <cat2>\n",
      "    <value>1.23</value>\n",
      "    <unit>eV</unit>\n",
      "  </cat2>\n",
      "  <cat2>\n",
      "    <value>1.29</value>\n",
      "    <unit>eV</unit>\n",
      "  </cat2>\n",
      "</demo>\n"
     ]
    }
   ],
   "source": [
    "#xml to file\n",
    "with open('test.xml', 'w') as f:\n",
    "    model.xml(f, indent=2)\n",
    "    \n",
    "with open('test.xml') as f:\n",
    "    print f.read()"
   ]
  },
  {
   "cell_type": "markdown",
   "metadata": {},
   "source": [
    "##4. DataModelDict.load()\n",
    "\n",
    "The load() method reads in a string or file-like object in json or xml format.  All dictionary levels are made DataModelDict objects.  Keyword values (True, False, None, nan, inf, -inf, and json equivalents) are also interpreted. Arguments are:\n",
    "\n",
    "- __data__ = string, unicode or file-like object containing the json/xml formatted data. Required.\n",
    "\n",
    "- __parse_float__ = numeric data type to convert floating point numbers to. Default is float.\n",
    "\n",
    "- __parse_int__ = numeric data type to convert integer numbers to.  Note that parse_int conversion is attempted before parse_float, so if the parse_int type can interpret floats then all values will be of parse_int. Default is int.\n",
    "\n"
   ]
  },
  {
   "cell_type": "code",
   "execution_count": 14,
   "metadata": {
    "collapsed": false
   },
   "outputs": [
    {
     "name": "stdout",
     "output_type": "stream",
     "text": [
      "DataModelDict([('demo', DataModelDict([('cat1', DataModelDict([('value', [100L, 200L, 300L]), ('unit', None)])), ('cat2', [DataModelDict([('value', 1.23), ('unit', 'eV')]), DataModelDict([('value', 1.29), ('unit', 'eV')])])]))])\n"
     ]
    }
   ],
   "source": [
    "#print original dictionary\n",
    "print model"
   ]
  },
  {
   "cell_type": "code",
   "execution_count": 15,
   "metadata": {
    "collapsed": false
   },
   "outputs": [
    {
     "name": "stdout",
     "output_type": "stream",
     "text": [
      "{\"demo\": {\"cat1\": {\"value\": [100, 200, 300], \"unit\": null}, \"cat2\": [{\"value\": 1.23, \"unit\": \"eV\"}, {\"value\": 1.29, \"unit\": \"eV\"}]}}\n",
      "\n",
      "<?xml version=\"1.0\" encoding=\"utf-8\"?>\n",
      "<demo><cat1><value>100</value><value>200</value><value>300</value><unit></unit></cat1><cat2><value>1.23</value><unit>eV</unit></cat2><cat2><value>1.29</value><unit>eV</unit></cat2></demo>\n"
     ]
    }
   ],
   "source": [
    "#save as json and xml strings\n",
    "json_string = model.json()\n",
    "xml_string = model.xml()\n",
    "print json_string\n",
    "print \n",
    "print xml_string"
   ]
  },
  {
   "cell_type": "code",
   "execution_count": 16,
   "metadata": {
    "collapsed": false
   },
   "outputs": [
    {
     "name": "stdout",
     "output_type": "stream",
     "text": [
      "DataModelDict()\n",
      "\n",
      "DataModelDict([(u'demo', DataModelDict([(u'cat1', DataModelDict([(u'value', [100, 200, 300]), (u'unit', None)])), (u'cat2', [DataModelDict([(u'value', 1.23), (u'unit', u'eV')]), DataModelDict([(u'value', 1.29), (u'unit', u'eV')])])]))])\n",
      "\n",
      "DataModelDict()\n",
      "\n",
      "DataModelDict([(u'demo', DataModelDict([(u'cat1', DataModelDict([(u'value', [100, 200, 300]), (u'unit', None)])), (u'cat2', [DataModelDict([(u'value', 1.23), (u'unit', u'eV')]), DataModelDict([(u'value', 1.29), (u'unit', u'eV')])])]))])\n"
     ]
    }
   ],
   "source": [
    "#clear model (not necessary. just to show that values are gone)\n",
    "model = DataModelDict()\n",
    "print model\n",
    "print \n",
    "\n",
    "#load json string\n",
    "model.load(json_string)\n",
    "print model\n",
    "print \n",
    "\n",
    "#clear model (not necessary. just to show that values are gone)\n",
    "model = DataModelDict()\n",
    "print model\n",
    "print\n",
    "\n",
    "#load xml string\n",
    "model.load(xml_string)\n",
    "print model"
   ]
  },
  {
   "cell_type": "code",
   "execution_count": 17,
   "metadata": {
    "collapsed": false
   },
   "outputs": [
    {
     "name": "stdout",
     "output_type": "stream",
     "text": [
      "DataModelDict([(u'demo', DataModelDict([(u'cat1', DataModelDict([(u'value', [100L, 200L, 300L]), (u'unit', None)])), (u'cat2', [DataModelDict([(u'value', (1.23+0j)), (u'unit', u'eV')]), DataModelDict([(u'value', (1.29+0j)), (u'unit', u'eV')])])]))])\n",
      "\n",
      "DataModelDict([(u'demo', DataModelDict([(u'cat1', DataModelDict([(u'value', [100L, 200L, 300L]), (u'unit', None)])), (u'cat2', [DataModelDict([(u'value', (1.23+0j)), (u'unit', u'eV')]), DataModelDict([(u'value', (1.29+0j)), (u'unit', u'eV')])])]))])\n"
     ]
    }
   ],
   "source": [
    "#import json string values with long integers and complex floats\n",
    "model.load(json_string, parse_int=long, parse_float=complex)\n",
    "print model\n",
    "print\n",
    "\n",
    "#import xml string values with long integers and complex floats\n",
    "model.load(xml_string, parse_int=long, parse_float=complex)\n",
    "print model"
   ]
  },
  {
   "cell_type": "markdown",
   "metadata": {},
   "source": [
    "__Load from files__"
   ]
  },
  {
   "cell_type": "code",
   "execution_count": 18,
   "metadata": {
    "collapsed": false
   },
   "outputs": [
    {
     "name": "stdout",
     "output_type": "stream",
     "text": [
      "DataModelDict()\n",
      "\n",
      "DataModelDict([(u'demo', DataModelDict([(u'cat1', DataModelDict([(u'value', [100, 200, 300]), (u'unit', None)])), (u'cat2', [DataModelDict([(u'value', 1.23), (u'unit', u'eV')]), DataModelDict([(u'value', 1.29), (u'unit', u'eV')])])]))])\n",
      "\n",
      "DataModelDict()\n",
      "\n",
      "DataModelDict([(u'demo', DataModelDict([(u'cat1', DataModelDict([(u'value', [100, 200, 300]), (u'unit', None)])), (u'cat2', [DataModelDict([(u'value', 1.23), (u'unit', u'eV')]), DataModelDict([(u'value', 1.29), (u'unit', u'eV')])])]))])\n"
     ]
    }
   ],
   "source": [
    "#clear model (not necessary. just to show that values are gone)\n",
    "model = DataModelDict()\n",
    "print model\n",
    "print \n",
    "\n",
    "#load json file\n",
    "with open('test.json') as f:\n",
    "    model.load(f)\n",
    "print model\n",
    "print \n",
    "\n",
    "#clear model (not necessary. just to show that values are gone)\n",
    "model = DataModelDict()\n",
    "print model\n",
    "print\n",
    "\n",
    "#load xml file\n",
    "with open('test.xml') as f:\n",
    "    model.load(f)\n",
    "print model"
   ]
  },
  {
   "cell_type": "markdown",
   "metadata": {},
   "source": [
    "#5. ismodel()\n",
    "\n",
    "The ismodel() method does a simple check if the highest level key matches the name given."
   ]
  },
  {
   "cell_type": "code",
   "execution_count": 19,
   "metadata": {
    "collapsed": false
   },
   "outputs": [
    {
     "name": "stdout",
     "output_type": "stream",
     "text": [
      "model.ismodel('demo') -> True\n",
      "model.ismodel('cat1') -> False\n"
     ]
    }
   ],
   "source": [
    "#ismodel testing\n",
    "print \"model.ismodel('demo') ->\", model.ismodel('demo')\n",
    "print \"model.ismodel('cat1') ->\", model.ismodel('cat1')"
   ]
  },
  {
   "cell_type": "markdown",
   "metadata": {},
   "source": [
    "#6. find()\n",
    "\n",
    "The find() method iterates through the DataModelDict and returns a list of all the elements with the given key name."
   ]
  },
  {
   "cell_type": "code",
   "execution_count": 20,
   "metadata": {
    "collapsed": false
   },
   "outputs": [
    {
     "name": "stdout",
     "output_type": "stream",
     "text": [
      "model.find('cat1') -> [DataModelDict([(u'value', [100, 200, 300]), (u'unit', None)])]\n"
     ]
    }
   ],
   "source": [
    "#find with single occurence\n",
    "print \"model.find('cat1') ->\", model.find('cat1')"
   ]
  },
  {
   "cell_type": "code",
   "execution_count": 21,
   "metadata": {
    "collapsed": false
   },
   "outputs": [
    {
     "name": "stdout",
     "output_type": "stream",
     "text": [
      "model.find('not-there') -> []\n"
     ]
    }
   ],
   "source": [
    "#find with no occurence\n",
    "print \"model.find('not-there') ->\", model.find('not-there')"
   ]
  },
  {
   "cell_type": "code",
   "execution_count": 22,
   "metadata": {
    "collapsed": false
   },
   "outputs": [
    {
     "name": "stdout",
     "output_type": "stream",
     "text": [
      "model.find('value') -> [[100, 200, 300], 1.23, 1.29]\n"
     ]
    }
   ],
   "source": [
    "#find with multiple occurences\n",
    "print \"model.find('value') ->\", model.find('value')"
   ]
  },
  {
   "cell_type": "markdown",
   "metadata": {},
   "source": [
    "#7. key_to_html()\n",
    "\n",
    "The key_to_html() method changes all dictionary and list elements with a given key into a single string entry.  This is important because there is ambiguity associated with parsing xml files that contain html elements."
   ]
  },
  {
   "cell_type": "code",
   "execution_count": 23,
   "metadata": {
    "collapsed": false
   },
   "outputs": [
    {
     "name": "stdout",
     "output_type": "stream",
     "text": [
      "{\n",
      "  \"demo\": {\n",
      "    \"cat1\": \"<value>100</value><value>200</value><value>300</value><unit></unit>\", \n",
      "    \"cat2\": [\n",
      "      {\n",
      "        \"value\": 1.23, \n",
      "        \"unit\": \"eV\"\n",
      "      }, \n",
      "      {\n",
      "        \"value\": 1.29, \n",
      "        \"unit\": \"eV\"\n",
      "      }\n",
      "    ]\n",
      "  }\n",
      "}\n",
      "\n"
     ]
    }
   ],
   "source": [
    "model2 = model.key_to_html('cat1', model)\n",
    "print model2.json(indent=2)\n",
    "print   "
   ]
  },
  {
   "cell_type": "code",
   "execution_count": 24,
   "metadata": {
    "collapsed": false
   },
   "outputs": [
    {
     "name": "stdout",
     "output_type": "stream",
     "text": [
      "{\n",
      "  \"demo\": {\n",
      "    \"cat1\": {\n",
      "      \"value\": [\n",
      "        100, \n",
      "        200, \n",
      "        300\n",
      "      ], \n",
      "      \"unit\": null\n",
      "    }, \n",
      "    \"cat2\": \"<value>1.23</value><unit>eV</unit><value>1.29</value><unit>eV</unit>\"\n",
      "  }\n",
      "}\n",
      "\n"
     ]
    }
   ],
   "source": [
    "model2 = model.key_to_html('cat2', model)\n",
    "print model2.json(indent=2)\n",
    "print"
   ]
  },
  {
   "cell_type": "markdown",
   "metadata": {},
   "source": [
    "__Note:__ Unfortunately, backwards conversion from html string to xml gets encoded."
   ]
  },
  {
   "cell_type": "code",
   "execution_count": 25,
   "metadata": {
    "collapsed": false
   },
   "outputs": [
    {
     "name": "stdout",
     "output_type": "stream",
     "text": [
      "<?xml version=\"1.0\" encoding=\"utf-8\"?>\n",
      "<demo>\n",
      "  <cat1>\n",
      "    <value>100</value>\n",
      "    <value>200</value>\n",
      "    <value>300</value>\n",
      "    <unit></unit>\n",
      "  </cat1>\n",
      "  <cat2>&lt;value&gt;1.23&lt;/value&gt;&lt;unit&gt;eV&lt;/unit&gt;&lt;value&gt;1.29&lt;/value&gt;&lt;unit&gt;eV&lt;/unit&gt;</cat2>\n",
      "</demo>\n"
     ]
    }
   ],
   "source": [
    "print model2.xml(indent=2)"
   ]
  },
  {
   "cell_type": "markdown",
   "metadata": {},
   "source": [
    "__File removal to keep Notebook directory clean.__"
   ]
  },
  {
   "cell_type": "code",
   "execution_count": 26,
   "metadata": {
    "collapsed": true
   },
   "outputs": [],
   "source": [
    "import os\n",
    "os.remove('test.json')\n",
    "os.remove('test.xml')"
   ]
  }
 ],
 "metadata": {
  "kernelspec": {
   "display_name": "Python 2",
   "language": "python",
   "name": "python2"
  },
  "language_info": {
   "codemirror_mode": {
    "name": "ipython",
    "version": 2
   },
   "file_extension": ".py",
   "mimetype": "text/x-python",
   "name": "python",
   "nbconvert_exporter": "python",
   "pygments_lexer": "ipython2",
   "version": "2.7.10"
  }
 },
 "nbformat": 4,
 "nbformat_minor": 0
}
