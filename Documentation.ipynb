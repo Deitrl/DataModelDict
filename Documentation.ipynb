{
 "cells": [
  {
   "cell_type": "markdown",
   "metadata": {},
   "source": [
    "#DataModelDict Python Class\n",
    "\n",
    "DataModelDict is a lightweight Python class for easy transformation and manipulation of JSON and XML structured data models.  It is designed to take the best aspects of JSON, XML, and Python dictionaries to allow the user to interact with any of these formats in a similar and convieneint manner. This class was designed to offer tools making it easy to read, modify, create and transform tiered and branching data models.\n",
    "\n",
    "This webpage outlines the features of DataModelDict and fully documents the class methods.  Simple demonstrations can be viewed on the [DataModelDict Basics webpage](DataModelDict Basics.html), or dynamically interacted with using the equivalent [Jupyter Notebook](DataModelDict Basics.ipynb).\n",
    "\n",
    "\n",
    "The key features of DataModelDict (so far) are:\n",
    "\n",
    "1. It is a child of OrderedDict meaning that it has all the features one would expect of a Python dictionary.\n",
    "\n",
    "2. It has built-in conversion methods for reading and writing JSON and XML.  JSON conversions use the standard Python [json library](https://docs.python.org/2/library/json.html), and XML conversions use the [xmltodict package](https://github.com/martinblech/xmltodict).  \n",
    "\n",
    "3. Numbers (int, float) and key terms (True, False, None) are recognized and converted during parsing. \n",
    "\n",
    "4. Methods for recusively searching the data model for specific keys and key-value pairs allow for the values and paths (as lists of indices) of elements to be easily found.\n",
    "\n",
    "5. Path lists can also be directly used to get and set values. (eg. my_model\\['a'\\]\\['b'\\]\\['c'\\]\\['d'\\] and my_model[path] where path = ['a', 'b', 'c', 'd'] access the same element).\n",
    "\n",
    "6. Additional methods for simplified handling of cases where XML does not directly map to JSON and Python dictionaries.\n",
    "\n",
    "##Class Methods\n"
   ]
  },
  {
   "cell_type": "code",
   "execution_count": null,
   "metadata": {
    "collapsed": true
   },
   "outputs": [],
   "source": []
  }
 ],
 "metadata": {
  "kernelspec": {
   "display_name": "Python 2",
   "language": "python",
   "name": "python2"
  },
  "language_info": {
   "codemirror_mode": {
    "name": "ipython",
    "version": 2
   },
   "file_extension": ".py",
   "mimetype": "text/x-python",
   "name": "python",
   "nbconvert_exporter": "python",
   "pygments_lexer": "ipython2",
   "version": "2.7.10"
  }
 },
 "nbformat": 4,
 "nbformat_minor": 0
}
