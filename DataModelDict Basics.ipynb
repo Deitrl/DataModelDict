{
 "cells": [
  {
   "cell_type": "markdown",
   "metadata": {
    "deletable": true,
    "editable": true
   },
   "source": [
    "# DataModelDict Class Demonstration\n",
    "\n",
    "The DataModelDict class is a utility tool for working with structured data models.  It handles the conversions between equivalent representations of json, XML and Python dictionaries.  It also has a few methods associated with checking the data model type and recursively retrieving elements from the model.\n",
    "\n",
    "Simple examples are presented here to demonstrate the basic functionality of the class.  Full documentation can be found [here on GitHub](https://github.com/usnistgov/DataModelDict/blob/master/Documentation.md)."
   ]
  },
  {
   "cell_type": "markdown",
   "metadata": {
    "deletable": true,
    "editable": true
   },
   "source": [
    "#### Library imports"
   ]
  },
  {
   "cell_type": "code",
   "execution_count": 1,
   "metadata": {
    "collapsed": false,
    "deletable": true,
    "editable": true
   },
   "outputs": [],
   "source": [
    "# Standard Python libraries\n",
    "from __future__ import print_function\n",
    "import os\n",
    "import random\n",
    "\n",
    "# DataModelDict class\n",
    "# https://github.com/usnistgov/DataModelDict\n",
    "from DataModelDict import DataModelDict as DM"
   ]
  },
  {
   "cell_type": "markdown",
   "metadata": {
    "deletable": true,
    "editable": true
   },
   "source": [
    "## 1. Class Basics \n",
    "\n",
    "The DataModelDict is a child class of OrderedDict.  As such, is has all the functionality of OrderedDict and more.\n",
    "\n",
    "Here, we construct a multi-level demonstration data model using lists and DataModelDicts."
   ]
  },
  {
   "cell_type": "code",
   "execution_count": 2,
   "metadata": {
    "collapsed": false,
    "deletable": true,
    "editable": true
   },
   "outputs": [],
   "source": [
    "# Create an empty DataModel\n",
    "model = DM()\n",
    "\n",
    "# Build model element by element\n",
    "model['my-data-model'] = DM()\n",
    "\n",
    "model['my-data-model']['name'] = 'Demo'\n",
    "model['my-data-model']['author'] = 'Me'\n",
    "\n",
    "model['my-data-model']['process'] = DM()\n",
    "model['my-data-model']['process']['Instrument'] = DM()\n",
    "model['my-data-model']['process']['Instrument']['Name'] = 'Shiny Thing'\n",
    "model['my-data-model']['process']['Instrument']['Model'] = 'Newest Most Expensive'\n",
    "model['my-data-model']['process']['method'] = 'By the book'\n",
    "\n",
    "# Assign multiple elements at once\n",
    "model['my-data-model']['measurement'] = []\n",
    "for temperature in xrange(0, 2000, 200):\n",
    "    measurement = DM([('temperature', DM([('value', temperature),                    \n",
    "                                          ('unit', 'K')])),\n",
    "                      ('length',      DM([('value', temperature*random.random()/50), \n",
    "                                          ('unit', 'm')]))])\n",
    "    model['my-data-model']['measurement'].append(measurement) "
   ]
  },
  {
   "cell_type": "markdown",
   "metadata": {
    "deletable": true,
    "editable": true
   },
   "source": [
    "## 2. Output Conversion\n",
    "\n",
    "DataModelDict has methods json() and xml() that return the data model as either of these formats. "
   ]
  },
  {
   "cell_type": "code",
   "execution_count": 3,
   "metadata": {
    "collapsed": false,
    "deletable": true,
    "editable": true
   },
   "outputs": [
    {
     "name": "stdout",
     "output_type": "stream",
     "text": [
      "{\n",
      "  \"my-data-model\": {\n",
      "    \"name\": \"Demo\", \n",
      "    \"author\": \"Me\", \n",
      "    \"process\": {\n",
      "      \"Instrument\": {\n",
      "        \"Name\": \"Shiny Thing\", \n",
      "        \"Model\": \"Newest Most Expensive\"\n",
      "      }, \n",
      "      \"method\": \"By the book\"\n",
      "    }, \n",
      "    \"measurement\": [\n",
      "      {\n",
      "        \"temperature\": {\n",
      "          \"value\": 0, \n",
      "          \"unit\": \"K\"\n",
      "        }, \n",
      "        \"length\": {\n",
      "          \"value\": 0.0, \n",
      "          \"unit\": \"m\"\n",
      "        }\n",
      "      }, \n",
      "      {\n",
      "        \"temperature\": {\n",
      "          \"value\": 200, \n",
      "          \"unit\": \"K\"\n",
      "        }, \n",
      "        \"length\": {\n",
      "          \"value\": 3.597903601595638, \n",
      "          \"unit\": \"m\"\n",
      "        }\n",
      "      }, \n",
      "      {\n",
      "        \"temperature\": {\n",
      "          \"value\": 400, \n",
      "          \"unit\": \"K\"\n",
      "        }, \n",
      "        \"length\": {\n",
      "          \"value\": 3.0407492805902656, \n",
      "          \"unit\": \"m\"\n",
      "        }\n",
      "      }, \n",
      "      {\n",
      "        \"temperature\": {\n",
      "          \"value\": 600, \n",
      "          \"unit\": \"K\"\n",
      "        }, \n",
      "        \"length\": {\n",
      "          \"value\": 8.657730986516292, \n",
      "          \"unit\": \"m\"\n",
      "        }\n",
      "      }, \n",
      "      {\n",
      "        \"temperature\": {\n",
      "          \"value\": 800, \n",
      "          \"unit\": \"K\"\n",
      "        }, \n",
      "        \"length\": {\n",
      "          \"value\": 5.293393305713355, \n",
      "          \"unit\": \"m\"\n",
      "        }\n",
      "      }, \n",
      "      {\n",
      "        \"temperature\": {\n",
      "          \"value\": 1000, \n",
      "          \"unit\": \"K\"\n",
      "        }, \n",
      "        \"length\": {\n",
      "          \"value\": 10.269433938080827, \n",
      "          \"unit\": \"m\"\n",
      "        }\n",
      "      }, \n",
      "      {\n",
      "        \"temperature\": {\n",
      "          \"value\": 1200, \n",
      "          \"unit\": \"K\"\n",
      "        }, \n",
      "        \"length\": {\n",
      "          \"value\": 2.1391888455622468, \n",
      "          \"unit\": \"m\"\n",
      "        }\n",
      "      }, \n",
      "      {\n",
      "        \"temperature\": {\n",
      "          \"value\": 1400, \n",
      "          \"unit\": \"K\"\n",
      "        }, \n",
      "        \"length\": {\n",
      "          \"value\": 6.088577416468889, \n",
      "          \"unit\": \"m\"\n",
      "        }\n",
      "      }, \n",
      "      {\n",
      "        \"temperature\": {\n",
      "          \"value\": 1600, \n",
      "          \"unit\": \"K\"\n",
      "        }, \n",
      "        \"length\": {\n",
      "          \"value\": 2.865309542407811, \n",
      "          \"unit\": \"m\"\n",
      "        }\n",
      "      }, \n",
      "      {\n",
      "        \"temperature\": {\n",
      "          \"value\": 1800, \n",
      "          \"unit\": \"K\"\n",
      "        }, \n",
      "        \"length\": {\n",
      "          \"value\": 11.738485389828563, \n",
      "          \"unit\": \"m\"\n",
      "        }\n",
      "      }\n",
      "    ]\n",
      "  }\n",
      "}\n"
     ]
    }
   ],
   "source": [
    "# Save DataModelDict as json file by setting fp = file-like object\n",
    "with open('model.json', 'w') as f:\n",
    "    model.json(fp=f)\n",
    "\n",
    "# Print the DataModelDict as a json string. \n",
    "# Setting an indent value adds newlines and line indentations\n",
    "print(model.json(indent=2))"
   ]
  },
  {
   "cell_type": "code",
   "execution_count": 4,
   "metadata": {
    "collapsed": false,
    "deletable": true,
    "editable": true
   },
   "outputs": [
    {
     "name": "stdout",
     "output_type": "stream",
     "text": [
      "<?xml version=\"1.0\" encoding=\"utf-8\"?>\n",
      "<my-data-model>\n",
      "    <name>Demo</name>\n",
      "    <author>Me</author>\n",
      "    <process>\n",
      "        <Instrument>\n",
      "            <Name>Shiny Thing</Name>\n",
      "            <Model>Newest Most Expensive</Model>\n",
      "        </Instrument>\n",
      "        <method>By the book</method>\n",
      "    </process>\n",
      "    <measurement>\n",
      "        <temperature>\n",
      "            <value>0</value>\n",
      "            <unit>K</unit>\n",
      "        </temperature>\n",
      "        <length>\n",
      "            <value>0.0</value>\n",
      "            <unit>m</unit>\n",
      "        </length>\n",
      "    </measurement>\n",
      "    <measurement>\n",
      "        <temperature>\n",
      "            <value>200</value>\n",
      "            <unit>K</unit>\n",
      "        </temperature>\n",
      "        <length>\n",
      "            <value>3.597903601595638</value>\n",
      "            <unit>m</unit>\n",
      "        </length>\n",
      "    </measurement>\n",
      "    <measurement>\n",
      "        <temperature>\n",
      "            <value>400</value>\n",
      "            <unit>K</unit>\n",
      "        </temperature>\n",
      "        <length>\n",
      "            <value>3.0407492805902656</value>\n",
      "            <unit>m</unit>\n",
      "        </length>\n",
      "    </measurement>\n",
      "    <measurement>\n",
      "        <temperature>\n",
      "            <value>600</value>\n",
      "            <unit>K</unit>\n",
      "        </temperature>\n",
      "        <length>\n",
      "            <value>8.657730986516292</value>\n",
      "            <unit>m</unit>\n",
      "        </length>\n",
      "    </measurement>\n",
      "    <measurement>\n",
      "        <temperature>\n",
      "            <value>800</value>\n",
      "            <unit>K</unit>\n",
      "        </temperature>\n",
      "        <length>\n",
      "            <value>5.293393305713355</value>\n",
      "            <unit>m</unit>\n",
      "        </length>\n",
      "    </measurement>\n",
      "    <measurement>\n",
      "        <temperature>\n",
      "            <value>1000</value>\n",
      "            <unit>K</unit>\n",
      "        </temperature>\n",
      "        <length>\n",
      "            <value>10.269433938080827</value>\n",
      "            <unit>m</unit>\n",
      "        </length>\n",
      "    </measurement>\n",
      "    <measurement>\n",
      "        <temperature>\n",
      "            <value>1200</value>\n",
      "            <unit>K</unit>\n",
      "        </temperature>\n",
      "        <length>\n",
      "            <value>2.1391888455622468</value>\n",
      "            <unit>m</unit>\n",
      "        </length>\n",
      "    </measurement>\n",
      "    <measurement>\n",
      "        <temperature>\n",
      "            <value>1400</value>\n",
      "            <unit>K</unit>\n",
      "        </temperature>\n",
      "        <length>\n",
      "            <value>6.088577416468889</value>\n",
      "            <unit>m</unit>\n",
      "        </length>\n",
      "    </measurement>\n",
      "    <measurement>\n",
      "        <temperature>\n",
      "            <value>1600</value>\n",
      "            <unit>K</unit>\n",
      "        </temperature>\n",
      "        <length>\n",
      "            <value>2.865309542407811</value>\n",
      "            <unit>m</unit>\n",
      "        </length>\n",
      "    </measurement>\n",
      "    <measurement>\n",
      "        <temperature>\n",
      "            <value>1800</value>\n",
      "            <unit>K</unit>\n",
      "        </temperature>\n",
      "        <length>\n",
      "            <value>11.738485389828563</value>\n",
      "            <unit>m</unit>\n",
      "        </length>\n",
      "    </measurement>\n",
      "</my-data-model>\n"
     ]
    }
   ],
   "source": [
    "# Save DataModelDict as xml file by setting fp = file-like object\n",
    "with open('model.xml', 'w') as f:\n",
    "    model.xml(fp=f)\n",
    "\n",
    "# Print the DataModelDict as an xml string. \n",
    "# Setting an indent value adds newlines and line indentations\n",
    "print(model.xml(indent=4))"
   ]
  },
  {
   "cell_type": "markdown",
   "metadata": {
    "deletable": true,
    "editable": true
   },
   "source": [
    "## 3. Loading Data Models\n",
    "\n",
    "DataModelDict has a load() method that reads in xml or json content. The class initilizer also calls load() if the argument is a string or file-like object. Both work if the supplied argument is:\n",
    "\n",
    "- a string directory path to an xml or json file.\n",
    "\n",
    "- a string containing xml or json content.\n",
    "\n",
    "- an open file-like object containing xml or json content."
   ]
  },
  {
   "cell_type": "code",
   "execution_count": 5,
   "metadata": {
    "collapsed": false,
    "deletable": true,
    "editable": true
   },
   "outputs": [
    {
     "name": "stdout",
     "output_type": "stream",
     "text": [
      "True\n"
     ]
    }
   ],
   "source": [
    "# Load from xml file during initilization\n",
    "model2 = DM('model.xml')\n",
    "    \n",
    "# Test that models are equivalent\n",
    "print(model.json() == model2.json() and model.xml()  == model2.xml())"
   ]
  },
  {
   "cell_type": "code",
   "execution_count": 6,
   "metadata": {
    "collapsed": false,
    "deletable": true,
    "editable": true
   },
   "outputs": [
    {
     "name": "stdout",
     "output_type": "stream",
     "text": [
      "True\n"
     ]
    }
   ],
   "source": [
    "# Load from json file using load()\n",
    "model2 = DM()\n",
    "model2.load('model.json')\n",
    "    \n",
    "# Test that models are equivalent\n",
    "print(model.json() == model2.json() and model.xml()  == model2.xml())"
   ]
  },
  {
   "cell_type": "code",
   "execution_count": 7,
   "metadata": {
    "collapsed": false,
    "deletable": true,
    "editable": true
   },
   "outputs": [
    {
     "name": "stdout",
     "output_type": "stream",
     "text": [
      "True\n"
     ]
    }
   ],
   "source": [
    "# Load from json string during initilization\n",
    "json_string = model.json()\n",
    "model2 = DM(json_string)\n",
    "    \n",
    "# Test that models are equivalent\n",
    "print(model.json() == model2.json() and model.xml()  == model2.xml())"
   ]
  },
  {
   "cell_type": "code",
   "execution_count": 8,
   "metadata": {
    "collapsed": false,
    "deletable": true,
    "editable": true
   },
   "outputs": [
    {
     "name": "stdout",
     "output_type": "stream",
     "text": [
      "True\n"
     ]
    }
   ],
   "source": [
    "# Load from xml string using load()\n",
    "xml_string = model.xml()\n",
    "model2 = DM()       \n",
    "model2.load(xml_string)\n",
    "\n",
    "#test that models are equivalent\n",
    "print(model.json() == model2.json() and model.xml()  == model2.xml())"
   ]
  },
  {
   "cell_type": "markdown",
   "metadata": {
    "deletable": true,
    "editable": true
   },
   "source": [
    "## 4. Finding and Accessing Elements\n",
    "\n",
    "A number of methods have been added to DataModelDict to assist in finding, accessing, and modifying the various elements and subelements of a data model."
   ]
  },
  {
   "cell_type": "markdown",
   "metadata": {
    "deletable": true,
    "editable": true
   },
   "source": [
    "### 4.1 Index with path lists\n",
    "\n",
    "Normally, accessing or setting the values contained in a data model consisting of tiered dictionaries and lists requires knowing the full path list beforehand.  This can be tedious and requires that the programmer hard-code the absolute path of any elements of interest.  To improve upon this, values contained in a DataModelDict can be accessed using a _path list_ consisting of a list of indicies.  The terms in the list can be either dictionary keys or list indicies."
   ]
  },
  {
   "cell_type": "code",
   "execution_count": 9,
   "metadata": {
    "collapsed": false,
    "deletable": true,
    "editable": true
   },
   "outputs": [
    {
     "name": "stdout",
     "output_type": "stream",
     "text": [
      "Shiny Thing\n",
      "Shiny Thing\n"
     ]
    }
   ],
   "source": [
    "# Use indexing to retrieve the instrument name in the standard way\n",
    "print(model['my-data-model']['process']['Instrument']['Name'])\n",
    "\n",
    "# Use path list indexing to retrieve the instrument name\n",
    "path = ['my-data-model', 'process', 'Instrument', 'Name']\n",
    "print(model[path])"
   ]
  },
  {
   "cell_type": "markdown",
   "metadata": {
    "deletable": true,
    "editable": true
   },
   "source": [
    "### 4.2 Find value(s) with key\n",
    "\n",
    "If you know the key for an element you are interested in but don't know where it is located in the data model, you can access the element's value using the find() and finds() methods.  find() will return a value if the search produces a unique result, and issue an error if no match or multiple matches are found.  finds() returns a list of all values obtained by the search conditions."
   ]
  },
  {
   "cell_type": "code",
   "execution_count": 10,
   "metadata": {
    "collapsed": false,
    "deletable": true,
    "editable": true
   },
   "outputs": [
    {
     "name": "stdout",
     "output_type": "stream",
     "text": [
      "Shiny Thing\n"
     ]
    }
   ],
   "source": [
    "# I know the instrument name is the only element with the key Name\n",
    "print(model.find('Name'))"
   ]
  },
  {
   "cell_type": "code",
   "execution_count": 11,
   "metadata": {
    "collapsed": false,
    "deletable": true,
    "editable": true
   },
   "outputs": [
    {
     "name": "stdout",
     "output_type": "stream",
     "text": [
      "10 measurements found, with first measurement being:\n",
      "{\n",
      "  \"temperature\": {\n",
      "    \"value\": 0, \n",
      "    \"unit\": \"K\"\n",
      "  }, \n",
      "  \"length\": {\n",
      "    \"value\": 0.0, \n",
      "    \"unit\": \"m\"\n",
      "  }\n",
      "}\n"
     ]
    }
   ],
   "source": [
    "# I want a list of all the measurement elements\n",
    "measurements = model.finds('measurement')\n",
    "\n",
    "print(len(measurements), \"measurements found, with first measurement being:\")\n",
    "print(measurements[0].json(indent=2))"
   ]
  },
  {
   "cell_type": "markdown",
   "metadata": {
    "deletable": true,
    "editable": true
   },
   "source": [
    "Both find() and finds() allow for additional search conditions using dictionary arguments _yes_ and _no_.  Any key-value pairs listed in _yes_ must be found in the element in order for it to be considered a match.  If any key-value pairs listed in _no_ are found in the element, then it is rejected.  "
   ]
  },
  {
   "cell_type": "code",
   "execution_count": 12,
   "metadata": {
    "collapsed": false,
    "deletable": true,
    "editable": true
   },
   "outputs": [
    {
     "name": "stdout",
     "output_type": "stream",
     "text": [
      "2.86530954241\n",
      "9 measurements found that don't have temperature = 800\n"
     ]
    }
   ],
   "source": [
    "#I want only the length from the measurement with temperature equal to 1600  \n",
    "temp = DM([('value',1600), ('unit', 'K')])\n",
    "\n",
    "print(model.find('measurement', yes={'temperature':temp})['length']['value'])\n",
    "\n",
    "#I want all measurements except for when temperature equals 800\n",
    "temp = DM([('value',800), ('unit', 'K')])\n",
    "\n",
    "measurements = model.finds('measurement', no={'temperature':temp})\n",
    "print(len(measurements), \"measurements found that don't have temperature = 800\")"
   ]
  },
  {
   "cell_type": "markdown",
   "metadata": {
    "deletable": true,
    "editable": true
   },
   "source": [
    "### 4.3 Find path(s) with key\n",
    "\n",
    "Alternatively, if you want to learn the full path to any elements in unknown locations, you can use the path() and paths() methods.  These behave similarly to find() and finds(), but return path lists instead of values."
   ]
  },
  {
   "cell_type": "code",
   "execution_count": 13,
   "metadata": {
    "collapsed": false,
    "deletable": true,
    "editable": true
   },
   "outputs": [
    {
     "name": "stdout",
     "output_type": "stream",
     "text": [
      "['my-data-model', 'process', 'Instrument', 'Name']\n",
      "Shiny Thing\n"
     ]
    }
   ],
   "source": [
    "# I know the instrument name is the only element with the key Name\n",
    "path = model.path('Name')\n",
    "print(path)\n",
    "print(model[path])"
   ]
  },
  {
   "cell_type": "markdown",
   "metadata": {
    "deletable": true,
    "editable": true
   },
   "source": [
    "The path() and paths() methods also allow for yes and no dictionaries to be used as arguments."
   ]
  },
  {
   "cell_type": "code",
   "execution_count": 14,
   "metadata": {
    "collapsed": false,
    "deletable": true,
    "editable": true
   },
   "outputs": [
    {
     "name": "stdout",
     "output_type": "stream",
     "text": [
      "['my-data-model', 'measurement', 0]\n",
      "['my-data-model', 'measurement', 1]\n",
      "['my-data-model', 'measurement', 2]\n",
      "['my-data-model', 'measurement', 3]\n",
      "['my-data-model', 'measurement', 5]\n",
      "['my-data-model', 'measurement', 6]\n",
      "['my-data-model', 'measurement', 7]\n",
      "['my-data-model', 'measurement', 8]\n",
      "['my-data-model', 'measurement', 9]\n"
     ]
    }
   ],
   "source": [
    "measurement_paths = model.paths('measurement', no={'temperature':temp})\n",
    "for path in measurement_paths:\n",
    "    print(path)    "
   ]
  },
  {
   "cell_type": "markdown",
   "metadata": {
    "deletable": true,
    "editable": true
   },
   "source": [
    "## 5. Treatment of Unbounded Sequences\n",
    "\n",
    "When converting from XML there is some ambiguity associated with sequences.  The normal parsing method will convert sequences with one element to single values, and sequences with multiple elements to lists.  To help with this, DataModelDict has a couple methods that allow for the handling of elements that may or may not be lists.\n",
    "\n",
    "The append() method allows for a key-value pair to be added to the DataModelDict.  If the key doesn't already exist, then it is assigned like a regular dictionary.  If the key does exist, the current value is converted into a list if it isn't one and the new value is appended.\n",
    "\n",
    "The aslist() method returns the value(s) associated with a dictionary key as a list, even if it isn't one."
   ]
  },
  {
   "cell_type": "code",
   "execution_count": 15,
   "metadata": {
    "collapsed": false,
    "deletable": true,
    "editable": true
   },
   "outputs": [
    {
     "name": "stdout",
     "output_type": "stream",
     "text": [
      "model['my-data-model'].get('ordinal', None) ->None\n",
      "model['my-data-model'].aslist('ordinal') ->   []\n",
      "\n",
      "model['my-data-model'].append('ordinal', 'first')\n",
      "model['my-data-model'].get('ordinal', None) ->first\n",
      "model['my-data-model'].aslist('ordinal') ->   ['first']\n",
      "\n",
      "model['my-data-model'].append('ordinal', 'second')\n",
      "model['my-data-model'].get('ordinal', None) ->['first', 'second']\n",
      "model['my-data-model'].aslist('ordinal') ->   ['first', 'second']\n",
      "\n",
      "model['my-data-model'].append('ordinal', 'third')\n",
      "model['my-data-model'].get('ordinal', None) ->['first', 'second', 'third']\n",
      "model['my-data-model'].aslist('ordinal') ->   ['first', 'second', 'third']\n"
     ]
    }
   ],
   "source": [
    "# Check element value and aslist before key is assigned\n",
    "print(\"model['my-data-model'].get('ordinal', None) ->\", end='') \n",
    "print(model['my-data-model'].get('ordinal', None)) \n",
    "print(\"model['my-data-model'].aslist('ordinal') ->   \", end='') \n",
    "print(model['my-data-model'].aslist('ordinal')) \n",
    "print() \n",
    "\n",
    "# Append a value and check again\n",
    "print(\"model['my-data-model'].append('ordinal', 'first')\")\n",
    "model['my-data-model'].append('ordinal', 'first')\n",
    "\n",
    "print(\"model['my-data-model'].get('ordinal', None) ->\", end='') \n",
    "print(model['my-data-model'].get('ordinal', None))\n",
    "print(\"model['my-data-model'].aslist('ordinal') ->   \", end='') \n",
    "print(model['my-data-model'].aslist('ordinal'))\n",
    "print() \n",
    "\n",
    "# Append a value and check again\n",
    "print(\"model['my-data-model'].append('ordinal', 'second')\")\n",
    "model['my-data-model'].append('ordinal', 'second')\n",
    "\n",
    "print(\"model['my-data-model'].get('ordinal', None) ->\", end='') \n",
    "print(model['my-data-model'].get('ordinal', None)) \n",
    "print(\"model['my-data-model'].aslist('ordinal') ->   \", end='') \n",
    "print(model['my-data-model'].aslist('ordinal'))\n",
    "print() \n",
    "\n",
    "# Append a value and check again\n",
    "print(\"model['my-data-model'].append('ordinal', 'third')\")\n",
    "model['my-data-model'].append('ordinal', 'third')\n",
    "\n",
    "print(\"model['my-data-model'].get('ordinal', None) ->\", end='') \n",
    "print(model['my-data-model'].get('ordinal', None)) \n",
    "print(\"model['my-data-model'].aslist('ordinal') ->   \", end='') \n",
    "print(model['my-data-model'].aslist('ordinal')) "
   ]
  },
  {
   "cell_type": "markdown",
   "metadata": {
    "deletable": true,
    "editable": true
   },
   "source": [
    "#### File removal to keep Notebook directory clean."
   ]
  },
  {
   "cell_type": "code",
   "execution_count": 16,
   "metadata": {
    "collapsed": false,
    "deletable": true,
    "editable": true
   },
   "outputs": [],
   "source": [
    "os.remove('model.json')\n",
    "os.remove('model.xml')"
   ]
  }
 ],
 "metadata": {
  "kernelspec": {
   "display_name": "Python 2",
   "language": "python",
   "name": "python2"
  },
  "language_info": {
   "codemirror_mode": {
    "name": "ipython",
    "version": 2
   },
   "file_extension": ".py",
   "mimetype": "text/x-python",
   "name": "python",
   "nbconvert_exporter": "python",
   "pygments_lexer": "ipython2",
   "version": "2.7.13"
  }
 },
 "nbformat": 4,
 "nbformat_minor": 0
}
