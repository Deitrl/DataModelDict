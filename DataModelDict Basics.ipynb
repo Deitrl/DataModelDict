{
 "cells": [
  {
   "cell_type": "markdown",
   "metadata": {},
   "source": [
    "# DataModelDict Class Demonstration\n",
    "\n",
    "The DataModelDict class is a utility tool for working with structured data models.  It handles the conversions between equivalent representations of json, XML and Python dictionaries.  It also has a few methods associated with checking the data model type and recursively retrieving elements from the model.\n",
    "\n",
    "Simple examples are presented here to demonstrate the basic functionality of the class.  Full documentation can be found on the [Documentation webpage](Documentation.html)."
   ]
  },
  {
   "cell_type": "markdown",
   "metadata": {},
   "source": [
    "#### Library imports"
   ]
  },
  {
   "cell_type": "code",
   "execution_count": 1,
   "metadata": {
    "collapsed": false
   },
   "outputs": [],
   "source": [
    "#standard Python libraries\n",
    "import random\n",
    "import os\n",
    "\n",
    "#DataModelDict class\n",
    "#Can be installed to Python with \"pip install DataModelDict\"\n",
    "#or downloaded from \"https://github.com/usnistgov/DataModelDict\"\n",
    "from DataModelDict import DataModelDict"
   ]
  },
  {
   "cell_type": "markdown",
   "metadata": {},
   "source": [
    "## 1. Class Basics \n",
    "\n",
    "The DataModelDict is a child class of OrderedDict.  As such, is has all the functionality of OrderedDict and more.\n",
    "\n",
    "Here, we construct a multi-level demonstration data model using lists and DataModelDicts."
   ]
  },
  {
   "cell_type": "code",
   "execution_count": 2,
   "metadata": {
    "collapsed": false
   },
   "outputs": [],
   "source": [
    "#Create an empty DataModel\n",
    "model = DataModelDict()\n",
    "\n",
    "#Create tiered dictionary for demonstration purposes\n",
    "model['my-data-model'] = DataModelDict()\n",
    "\n",
    "model['my-data-model']['name'] = 'Demo'\n",
    "\n",
    "model['my-data-model']['author'] = 'Me'\n",
    "\n",
    "model['my-data-model']['process'] = DataModelDict()\n",
    "model['my-data-model']['process']['Instrument'] = DataModelDict()\n",
    "model['my-data-model']['process']['Instrument']['Name'] = 'Shiny Thing'\n",
    "model['my-data-model']['process']['Instrument']['Model'] = 'Newest Most Expensive'\n",
    "model['my-data-model']['process']['method'] = 'By the book'\n",
    "\n",
    "#Assign random data for each temperature measurement\n",
    "model['my-data-model']['measurement'] = []\n",
    "for temperature in xrange(0, 2000, 200):\n",
    "    measurement = DataModelDict([('temperature', DataModelDict([('value', temperature),\n",
    "                                                                ('unit', 'K')])),\n",
    "                                 ('length',      DataModelDict([('value', temperature*random.random()/50),\n",
    "                                                                ('unit', 'm')]))])\n",
    "    model['my-data-model']['measurement'].append(measurement) "
   ]
  },
  {
   "cell_type": "markdown",
   "metadata": {},
   "source": [
    "## 2. Output Conversion\n",
    "\n",
    "DataModelDict has methods json() and xml() that return the data model as either of these formats. "
   ]
  },
  {
   "cell_type": "code",
   "execution_count": 3,
   "metadata": {
    "collapsed": false
   },
   "outputs": [
    {
     "name": "stdout",
     "output_type": "stream",
     "text": [
      "{\n",
      "  \"my-data-model\": {\n",
      "    \"name\": \"Demo\", \n",
      "    \"author\": \"Me\", \n",
      "    \"process\": {\n",
      "      \"Instrument\": {\n",
      "        \"Name\": \"Shiny Thing\", \n",
      "        \"Model\": \"Newest Most Expensive\"\n",
      "      }, \n",
      "      \"method\": \"By the book\"\n",
      "    }, \n",
      "    \"measurement\": [\n",
      "      {\n",
      "        \"temperature\": {\n",
      "          \"value\": 0, \n",
      "          \"unit\": \"K\"\n",
      "        }, \n",
      "        \"length\": {\n",
      "          \"value\": 0.0, \n",
      "          \"unit\": \"m\"\n",
      "        }\n",
      "      }, \n",
      "      {\n",
      "        \"temperature\": {\n",
      "          \"value\": 200, \n",
      "          \"unit\": \"K\"\n",
      "        }, \n",
      "        \"length\": {\n",
      "          \"value\": 1.3982209483386643, \n",
      "          \"unit\": \"m\"\n",
      "        }\n",
      "      }, \n",
      "      {\n",
      "        \"temperature\": {\n",
      "          \"value\": 400, \n",
      "          \"unit\": \"K\"\n",
      "        }, \n",
      "        \"length\": {\n",
      "          \"value\": 2.533088681465685, \n",
      "          \"unit\": \"m\"\n",
      "        }\n",
      "      }, \n",
      "      {\n",
      "        \"temperature\": {\n",
      "          \"value\": 600, \n",
      "          \"unit\": \"K\"\n",
      "        }, \n",
      "        \"length\": {\n",
      "          \"value\": 8.699617823553178, \n",
      "          \"unit\": \"m\"\n",
      "        }\n",
      "      }, \n",
      "      {\n",
      "        \"temperature\": {\n",
      "          \"value\": 800, \n",
      "          \"unit\": \"K\"\n",
      "        }, \n",
      "        \"length\": {\n",
      "          \"value\": 3.7170207391647008, \n",
      "          \"unit\": \"m\"\n",
      "        }\n",
      "      }, \n",
      "      {\n",
      "        \"temperature\": {\n",
      "          \"value\": 1000, \n",
      "          \"unit\": \"K\"\n",
      "        }, \n",
      "        \"length\": {\n",
      "          \"value\": 8.123895492722651, \n",
      "          \"unit\": \"m\"\n",
      "        }\n",
      "      }, \n",
      "      {\n",
      "        \"temperature\": {\n",
      "          \"value\": 1200, \n",
      "          \"unit\": \"K\"\n",
      "        }, \n",
      "        \"length\": {\n",
      "          \"value\": 10.366972642821258, \n",
      "          \"unit\": \"m\"\n",
      "        }\n",
      "      }, \n",
      "      {\n",
      "        \"temperature\": {\n",
      "          \"value\": 1400, \n",
      "          \"unit\": \"K\"\n",
      "        }, \n",
      "        \"length\": {\n",
      "          \"value\": 5.392195056910865, \n",
      "          \"unit\": \"m\"\n",
      "        }\n",
      "      }, \n",
      "      {\n",
      "        \"temperature\": {\n",
      "          \"value\": 1600, \n",
      "          \"unit\": \"K\"\n",
      "        }, \n",
      "        \"length\": {\n",
      "          \"value\": 24.012692872198418, \n",
      "          \"unit\": \"m\"\n",
      "        }\n",
      "      }, \n",
      "      {\n",
      "        \"temperature\": {\n",
      "          \"value\": 1800, \n",
      "          \"unit\": \"K\"\n",
      "        }, \n",
      "        \"length\": {\n",
      "          \"value\": 10.64847706099048, \n",
      "          \"unit\": \"m\"\n",
      "        }\n",
      "      }\n",
      "    ]\n",
      "  }\n",
      "}\n"
     ]
    }
   ],
   "source": [
    "#Save DataModelDict as json file by setting fp = file-like object\n",
    "with open('model.json', 'w') as f:\n",
    "    model.json(fp=f)\n",
    "\n",
    "#Print the DataModelDict as a json string. \n",
    "#Setting an indent value adds newlines and line indentations\n",
    "print model.json(indent=2)"
   ]
  },
  {
   "cell_type": "code",
   "execution_count": 4,
   "metadata": {
    "collapsed": false
   },
   "outputs": [
    {
     "name": "stdout",
     "output_type": "stream",
     "text": [
      "<?xml version=\"1.0\" encoding=\"utf-8\"?>\n",
      "<my-data-model>\n",
      "    <name>Demo</name>\n",
      "    <author>Me</author>\n",
      "    <process>\n",
      "        <Instrument>\n",
      "            <Name>Shiny Thing</Name>\n",
      "            <Model>Newest Most Expensive</Model>\n",
      "        </Instrument>\n",
      "        <method>By the book</method>\n",
      "    </process>\n",
      "    <measurement>\n",
      "        <temperature>\n",
      "            <value>0</value>\n",
      "            <unit>K</unit>\n",
      "        </temperature>\n",
      "        <length>\n",
      "            <value>0.0</value>\n",
      "            <unit>m</unit>\n",
      "        </length>\n",
      "    </measurement>\n",
      "    <measurement>\n",
      "        <temperature>\n",
      "            <value>200</value>\n",
      "            <unit>K</unit>\n",
      "        </temperature>\n",
      "        <length>\n",
      "            <value>1.3982209483386643</value>\n",
      "            <unit>m</unit>\n",
      "        </length>\n",
      "    </measurement>\n",
      "    <measurement>\n",
      "        <temperature>\n",
      "            <value>400</value>\n",
      "            <unit>K</unit>\n",
      "        </temperature>\n",
      "        <length>\n",
      "            <value>2.533088681465685</value>\n",
      "            <unit>m</unit>\n",
      "        </length>\n",
      "    </measurement>\n",
      "    <measurement>\n",
      "        <temperature>\n",
      "            <value>600</value>\n",
      "            <unit>K</unit>\n",
      "        </temperature>\n",
      "        <length>\n",
      "            <value>8.699617823553178</value>\n",
      "            <unit>m</unit>\n",
      "        </length>\n",
      "    </measurement>\n",
      "    <measurement>\n",
      "        <temperature>\n",
      "            <value>800</value>\n",
      "            <unit>K</unit>\n",
      "        </temperature>\n",
      "        <length>\n",
      "            <value>3.7170207391647008</value>\n",
      "            <unit>m</unit>\n",
      "        </length>\n",
      "    </measurement>\n",
      "    <measurement>\n",
      "        <temperature>\n",
      "            <value>1000</value>\n",
      "            <unit>K</unit>\n",
      "        </temperature>\n",
      "        <length>\n",
      "            <value>8.123895492722651</value>\n",
      "            <unit>m</unit>\n",
      "        </length>\n",
      "    </measurement>\n",
      "    <measurement>\n",
      "        <temperature>\n",
      "            <value>1200</value>\n",
      "            <unit>K</unit>\n",
      "        </temperature>\n",
      "        <length>\n",
      "            <value>10.366972642821258</value>\n",
      "            <unit>m</unit>\n",
      "        </length>\n",
      "    </measurement>\n",
      "    <measurement>\n",
      "        <temperature>\n",
      "            <value>1400</value>\n",
      "            <unit>K</unit>\n",
      "        </temperature>\n",
      "        <length>\n",
      "            <value>5.392195056910865</value>\n",
      "            <unit>m</unit>\n",
      "        </length>\n",
      "    </measurement>\n",
      "    <measurement>\n",
      "        <temperature>\n",
      "            <value>1600</value>\n",
      "            <unit>K</unit>\n",
      "        </temperature>\n",
      "        <length>\n",
      "            <value>24.012692872198418</value>\n",
      "            <unit>m</unit>\n",
      "        </length>\n",
      "    </measurement>\n",
      "    <measurement>\n",
      "        <temperature>\n",
      "            <value>1800</value>\n",
      "            <unit>K</unit>\n",
      "        </temperature>\n",
      "        <length>\n",
      "            <value>10.64847706099048</value>\n",
      "            <unit>m</unit>\n",
      "        </length>\n",
      "    </measurement>\n",
      "</my-data-model>\n"
     ]
    }
   ],
   "source": [
    "#Save DataModelDict as xml file by setting fp = file-like object\n",
    "with open('model.xml', 'w') as f:\n",
    "    model.xml(fp=f)\n",
    "\n",
    "#Print the DataModelDict as an xml string. \n",
    "#Setting an indent value adds newlines and line indentations\n",
    "print model.xml(indent=4)"
   ]
  },
  {
   "cell_type": "markdown",
   "metadata": {},
   "source": [
    "## 3. Loading Data Models\n",
    "\n",
    "DataModelDict has a load() method that reads in a string or file-like object in either xml or json format. The class initilizer also calls load() if the argument is a string or file-like object."
   ]
  },
  {
   "cell_type": "code",
   "execution_count": 5,
   "metadata": {
    "collapsed": false
   },
   "outputs": [
    {
     "name": "stdout",
     "output_type": "stream",
     "text": [
      "True\n"
     ]
    }
   ],
   "source": [
    "#load from xml file by initilizing new model\n",
    "with open('model.xml') as f:\n",
    "    model2 = DataModelDict(f)\n",
    "    \n",
    "#test that models are equivalent\n",
    "print model.json() == model2.json() and model.xml()  == model2.xml()"
   ]
  },
  {
   "cell_type": "code",
   "execution_count": 6,
   "metadata": {
    "collapsed": false
   },
   "outputs": [
    {
     "name": "stdout",
     "output_type": "stream",
     "text": [
      "True\n"
     ]
    }
   ],
   "source": [
    "#load from json file by using load()\n",
    "model2 = DataModelDict()\n",
    "with open('model.json') as f:\n",
    "    model2.load(f)\n",
    "    \n",
    "#test that models are equivalent\n",
    "print model.json() == model2.json() and model.xml()  == model2.xml()"
   ]
  },
  {
   "cell_type": "code",
   "execution_count": 7,
   "metadata": {
    "collapsed": false
   },
   "outputs": [
    {
     "name": "stdout",
     "output_type": "stream",
     "text": [
      "True\n"
     ]
    }
   ],
   "source": [
    "#load from json string by initilizing new model\n",
    "json_string = model.json()\n",
    "model2 = DataModelDict(json_string)\n",
    "    \n",
    "#test that models are equivalent\n",
    "print model.json() == model2.json() and model.xml()  == model2.xml()"
   ]
  },
  {
   "cell_type": "code",
   "execution_count": 8,
   "metadata": {
    "collapsed": false
   },
   "outputs": [
    {
     "name": "stdout",
     "output_type": "stream",
     "text": [
      "True\n"
     ]
    }
   ],
   "source": [
    "#load from xml string by using load()\n",
    "xml_string = model.xml()\n",
    "model2 = DataModelDict()       \n",
    "model2.load(xml_string)\n",
    "\n",
    "#test that models are equivalent\n",
    "print model.json() == model2.json() and model.xml()  == model2.xml()"
   ]
  },
  {
   "cell_type": "markdown",
   "metadata": {},
   "source": [
    "## 4. Finding and Accessing Elements\n",
    "\n",
    "A number of methods have been added to DataModelDict to assist in finding, accessing, and modifying the various elements and subelements of a data model."
   ]
  },
  {
   "cell_type": "markdown",
   "metadata": {},
   "source": [
    "### 4.1 Index with path lists\n",
    "\n",
    "Normally, accessing or setting the values contained in a data model consisting of tiered dictionaries and lists requires knowing the full path list beforehand.  This can be tedious and requires that the programmer hard-code the absolute path of any elements of interest.  To improve upon this, values contained in a DataModelDict can be accessed using a _path list_ consisting of a list of indicies.  The terms in the list can be either dictionary keys or list indicies."
   ]
  },
  {
   "cell_type": "code",
   "execution_count": 9,
   "metadata": {
    "collapsed": false
   },
   "outputs": [
    {
     "name": "stdout",
     "output_type": "stream",
     "text": [
      "Shiny Thing\n",
      "Shiny Thing\n"
     ]
    }
   ],
   "source": [
    "#Use indexing to retrieve the instrument name in the standard way\n",
    "print model['my-data-model']['process']['Instrument']['Name']\n",
    "\n",
    "#Use path list indexing to retrieve the instrument name\n",
    "path = ['my-data-model', 'process', 'Instrument', 'Name']\n",
    "print model[path]"
   ]
  },
  {
   "cell_type": "markdown",
   "metadata": {},
   "source": [
    "### 4.2 Find value(s) with key\n",
    "\n",
    "If you know the key for an element you are interested in but don't know where it is located in the data model, you can access the element's value using the find() and finds() methods.  find() will return a value if the search produces a unique result, and issue an error if no match or multiple matches are found.  finds() returns a list of all values obtained by the search conditions."
   ]
  },
  {
   "cell_type": "code",
   "execution_count": 10,
   "metadata": {
    "collapsed": false
   },
   "outputs": [
    {
     "name": "stdout",
     "output_type": "stream",
     "text": [
      "Shiny Thing\n"
     ]
    }
   ],
   "source": [
    "#I know the instrument name is the only element with the key Name\n",
    "print model.find('Name')"
   ]
  },
  {
   "cell_type": "code",
   "execution_count": 11,
   "metadata": {
    "collapsed": false
   },
   "outputs": [
    {
     "name": "stdout",
     "output_type": "stream",
     "text": [
      "10 measurements found, with first measurement being:\n",
      "{\n",
      "  \"temperature\": {\n",
      "    \"value\": 0, \n",
      "    \"unit\": \"K\"\n",
      "  }, \n",
      "  \"length\": {\n",
      "    \"value\": 0.0, \n",
      "    \"unit\": \"m\"\n",
      "  }\n",
      "}\n"
     ]
    }
   ],
   "source": [
    "#I want a list of all the measurement elements\n",
    "measurements = model.finds('measurement')\n",
    "\n",
    "print len(measurements), \"measurements found, with first measurement being:\"\n",
    "print measurements[0].json(indent=2)"
   ]
  },
  {
   "cell_type": "markdown",
   "metadata": {},
   "source": [
    "Both find() and finds() allow for additional search conditions using dictionary arguments _yes_ and _no_.  Any key-value pairs listed in _yes_ must be found in the element in order for it to be considered a match.  If any key-value pairs listed in _no_ are found in the element, then it is rejected.  "
   ]
  },
  {
   "cell_type": "code",
   "execution_count": 12,
   "metadata": {
    "collapsed": false
   },
   "outputs": [
    {
     "name": "stdout",
     "output_type": "stream",
     "text": [
      "24.0126928722\n",
      "9 measurements found that don't have temperature = 800\n"
     ]
    }
   ],
   "source": [
    "#I want only the length from the measurement with temperature equal to 1600  \n",
    "temp = DataModelDict([('value',1600), ('unit', 'K')])\n",
    "\n",
    "print model.find('measurement', yes={'temperature':temp})['length']['value']\n",
    "\n",
    "#I want all measurements except for when temperature equals 800\n",
    "temp = DataModelDict([('value',800), ('unit', 'K')])\n",
    "\n",
    "measurements = model.finds('measurement', no={'temperature':temp})\n",
    "print len(measurements), \"measurements found that don't have temperature = 800\""
   ]
  },
  {
   "cell_type": "markdown",
   "metadata": {},
   "source": [
    "### 4.3 Find path(s) with key\n",
    "\n",
    "Alternatively, if you want to learn the full path to any elements in unknown locations, you can use the path() and paths() methods.  These behave similarly to find() and finds(), but return path lists instead of values."
   ]
  },
  {
   "cell_type": "code",
   "execution_count": 13,
   "metadata": {
    "collapsed": false
   },
   "outputs": [
    {
     "name": "stdout",
     "output_type": "stream",
     "text": [
      "['my-data-model', 'process', 'Instrument', 'Name']\n",
      "Shiny Thing\n"
     ]
    }
   ],
   "source": [
    "#I know the instrument name is the only element with the key Name\n",
    "path = model.path('Name')\n",
    "print path\n",
    "print model[path]"
   ]
  },
  {
   "cell_type": "markdown",
   "metadata": {},
   "source": [
    "The path() and paths() methods also allow for yes and no dictionaries to be used as arguments."
   ]
  },
  {
   "cell_type": "code",
   "execution_count": 14,
   "metadata": {
    "collapsed": false
   },
   "outputs": [
    {
     "name": "stdout",
     "output_type": "stream",
     "text": [
      "['my-data-model', 'measurement', 0]\n",
      "['my-data-model', 'measurement', 1]\n",
      "['my-data-model', 'measurement', 2]\n",
      "['my-data-model', 'measurement', 3]\n",
      "['my-data-model', 'measurement', 5]\n",
      "['my-data-model', 'measurement', 6]\n",
      "['my-data-model', 'measurement', 7]\n",
      "['my-data-model', 'measurement', 8]\n",
      "['my-data-model', 'measurement', 9]\n"
     ]
    }
   ],
   "source": [
    "measurement_paths = model.paths('measurement', no={'temperature':temp})\n",
    "for path in measurement_paths:\n",
    "    print path    "
   ]
  },
  {
   "cell_type": "markdown",
   "metadata": {},
   "source": [
    "## 5. Treatment of Unbounded Sequences\n",
    "\n",
    "When converting from XML there is some ambiguity associated with sequences.  The normal parsing method will convert sequences with one element to single values, and sequences with multiple elements to lists.  To help with this, DataModelDict has a couple methods that allow for the handling of elements that may or may not be lists.\n",
    "\n",
    "The append() method allows for a key-value pair to be added to the DataModelDict.  If the key doesn't already exist, then it is assigned like a regular dictionary.  If the key does exist, the current value is converted into a list if it isn't one and the new value is appended.\n",
    "\n",
    "The aslist() method returns the value(s) associated with a dictionary key as a list, even if it isn't one."
   ]
  },
  {
   "cell_type": "code",
   "execution_count": 15,
   "metadata": {
    "collapsed": false
   },
   "outputs": [
    {
     "name": "stdout",
     "output_type": "stream",
     "text": [
      "model['my-data-model'].get('ordinal', None) -> None\n",
      "model['my-data-model'].aslist('ordinal') ->    []\n",
      "\n",
      "model['my-data-model'].append('ordinal', 'first')\n",
      "model['my-data-model'].get('ordinal', None) -> first\n",
      "model['my-data-model'].aslist('ordinal') ->    ['first']\n",
      "\n",
      "model['my-data-model'].append('ordinal', 'second')\n",
      "model['my-data-model'].get('ordinal', None) -> ['first', 'second']\n",
      "model['my-data-model'].aslist('ordinal') ->    ['first', 'second']\n",
      "\n",
      "model['my-data-model'].append('ordinal', 'third')\n",
      "model['my-data-model'].get('ordinal', None) -> ['first', 'second', 'third']\n",
      "model['my-data-model'].aslist('ordinal') ->    ['first', 'second', 'third']\n"
     ]
    }
   ],
   "source": [
    "#Check element value and aslist before key is assigned\n",
    "print \"model['my-data-model'].get('ordinal', None) ->\", \n",
    "print model['my-data-model'].get('ordinal', None) \n",
    "print \"model['my-data-model'].aslist('ordinal') ->   \", \n",
    "print model['my-data-model'].aslist('ordinal') \n",
    "print \n",
    "\n",
    "#append a value and check again\n",
    "print \"model['my-data-model'].append('ordinal', 'first')\"\n",
    "model['my-data-model'].append('ordinal', 'first')\n",
    "print \"model['my-data-model'].get('ordinal', None) ->\", \n",
    "print model['my-data-model'].get('ordinal', None) \n",
    "print \"model['my-data-model'].aslist('ordinal') ->   \", \n",
    "print model['my-data-model'].aslist('ordinal') \n",
    "print \n",
    "\n",
    "#append a value and check again\n",
    "print \"model['my-data-model'].append('ordinal', 'second')\"\n",
    "model['my-data-model'].append('ordinal', 'second')\n",
    "print \"model['my-data-model'].get('ordinal', None) ->\", \n",
    "print model['my-data-model'].get('ordinal', None) \n",
    "print \"model['my-data-model'].aslist('ordinal') ->   \", \n",
    "print model['my-data-model'].aslist('ordinal') \n",
    "print \n",
    "\n",
    "#append a value and check again\n",
    "print \"model['my-data-model'].append('ordinal', 'third')\"\n",
    "model['my-data-model'].append('ordinal', 'third')\n",
    "print \"model['my-data-model'].get('ordinal', None) ->\", \n",
    "print model['my-data-model'].get('ordinal', None) \n",
    "print \"model['my-data-model'].aslist('ordinal') ->   \", \n",
    "print model['my-data-model'].aslist('ordinal') "
   ]
  },
  {
   "cell_type": "markdown",
   "metadata": {},
   "source": [
    "#### File removal to keep Notebook directory clean."
   ]
  },
  {
   "cell_type": "code",
   "execution_count": 16,
   "metadata": {
    "collapsed": false
   },
   "outputs": [],
   "source": [
    "os.remove('model.json')\n",
    "os.remove('model.xml')"
   ]
  }
 ],
 "metadata": {
  "kernelspec": {
   "display_name": "Python 2",
   "language": "python",
   "name": "python2"
  },
  "language_info": {
   "codemirror_mode": {
    "name": "ipython",
    "version": 2
   },
   "file_extension": ".py",
   "mimetype": "text/x-python",
   "name": "python",
   "nbconvert_exporter": "python",
   "pygments_lexer": "ipython2",
   "version": "2.7.11"
  }
 },
 "nbformat": 4,
 "nbformat_minor": 0
}
